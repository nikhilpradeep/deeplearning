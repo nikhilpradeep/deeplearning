{
  "nbformat": 4,
  "nbformat_minor": 0,
  "metadata": {
    "colab": {
      "name": "Nikhil_Pradeep_D19019_Deep_learning_Assignment.ipynb",
      "provenance": [],
      "collapsed_sections": []
    },
    "kernelspec": {
      "name": "python3",
      "display_name": "Python 3"
    },
    "accelerator": "GPU"
  },
  "cells": [
    {
      "cell_type": "code",
      "metadata": {
        "id": "5LcmTgD4a0aH",
        "colab_type": "code",
        "colab": {}
      },
      "source": [
        "# Import necessary packages\n",
        "\n",
        "%matplotlib inline\n",
        "\n",
        "import numpy as np\n",
        "import torch\n",
        "import helper\n",
        "import matplotlib.pyplot as plt"
      ],
      "execution_count": 0,
      "outputs": []
    },
    {
      "cell_type": "code",
      "metadata": {
        "id": "rry88y9Jnzf2",
        "colab_type": "code",
        "colab": {
          "base_uri": "https://localhost:8080/",
          "height": 252
        },
        "outputId": "ae30d17e-6b52-4f89-d11e-a330b7850e0e"
      },
      "source": [
        "from torch import nn, optim\n",
        "from torch.autograd import Variable\n",
        "from torchvision import datasets, transforms\n",
        "import torch.nn.functional as F\n",
        "\n",
        "# Define a transform to normalize the data\n",
        "transform = transforms.Compose([transforms.ToTensor()])\n",
        "\n",
        "# Download and load the training data\n",
        "trainset = datasets.MNIST('MNIST_data/', download=True, train=True, transform=transform)\n",
        "testset = datasets.MNIST('MNIST_data/', download=True, train=False, transform=transform)\n",
        "torch.manual_seed(101)\n",
        "trainloader = torch.utils.data.DataLoader(trainset, batch_size=100, shuffle=True)\n",
        "testloader = torch.utils.data.DataLoader(testset, batch_size= 100, shuffle= False)"
      ],
      "execution_count": 2,
      "outputs": [
        {
          "output_type": "stream",
          "text": [
            "\r0it [00:00, ?it/s]"
          ],
          "name": "stderr"
        },
        {
          "output_type": "stream",
          "text": [
            "Downloading http://yann.lecun.com/exdb/mnist/train-images-idx3-ubyte.gz to MNIST_data/MNIST/raw/train-images-idx3-ubyte.gz\n"
          ],
          "name": "stdout"
        },
        {
          "output_type": "stream",
          "text": [
            "9920512it [00:01, 9390841.12it/s]                            \n"
          ],
          "name": "stderr"
        },
        {
          "output_type": "stream",
          "text": [
            "Extracting MNIST_data/MNIST/raw/train-images-idx3-ubyte.gz to MNIST_data/MNIST/raw\n"
          ],
          "name": "stdout"
        },
        {
          "output_type": "stream",
          "text": [
            "  0%|          | 0/28881 [00:00<?, ?it/s]"
          ],
          "name": "stderr"
        },
        {
          "output_type": "stream",
          "text": [
            "Downloading http://yann.lecun.com/exdb/mnist/train-labels-idx1-ubyte.gz to MNIST_data/MNIST/raw/train-labels-idx1-ubyte.gz\n"
          ],
          "name": "stdout"
        },
        {
          "output_type": "stream",
          "text": [
            "32768it [00:00, 142809.15it/s]           \n",
            "  0%|          | 0/1648877 [00:00<?, ?it/s]"
          ],
          "name": "stderr"
        },
        {
          "output_type": "stream",
          "text": [
            "Extracting MNIST_data/MNIST/raw/train-labels-idx1-ubyte.gz to MNIST_data/MNIST/raw\n",
            "Downloading http://yann.lecun.com/exdb/mnist/t10k-images-idx3-ubyte.gz to MNIST_data/MNIST/raw/t10k-images-idx3-ubyte.gz\n"
          ],
          "name": "stdout"
        },
        {
          "output_type": "stream",
          "text": [
            "1654784it [00:00, 2352316.40it/s]                            \n",
            "0it [00:00, ?it/s]"
          ],
          "name": "stderr"
        },
        {
          "output_type": "stream",
          "text": [
            "Extracting MNIST_data/MNIST/raw/t10k-images-idx3-ubyte.gz to MNIST_data/MNIST/raw\n",
            "Downloading http://yann.lecun.com/exdb/mnist/t10k-labels-idx1-ubyte.gz to MNIST_data/MNIST/raw/t10k-labels-idx1-ubyte.gz\n"
          ],
          "name": "stdout"
        },
        {
          "output_type": "stream",
          "text": [
            "8192it [00:00, 51692.18it/s]            "
          ],
          "name": "stderr"
        },
        {
          "output_type": "stream",
          "text": [
            "Extracting MNIST_data/MNIST/raw/t10k-labels-idx1-ubyte.gz to MNIST_data/MNIST/raw\n",
            "Processing...\n",
            "Done!\n"
          ],
          "name": "stdout"
        },
        {
          "output_type": "stream",
          "text": [
            "\n"
          ],
          "name": "stderr"
        }
      ]
    },
    {
      "cell_type": "code",
      "metadata": {
        "id": "xfCCpGJJn1tt",
        "colab_type": "code",
        "outputId": "f3fa3171-02f9-4b35-ffaf-aa9fbf2cfe78",
        "colab": {
          "base_uri": "https://localhost:8080/",
          "height": 34
        }
      },
      "source": [
        "print(f\"len of trainSet {len(trainset)} , len of testSet {len(testset)}\")"
      ],
      "execution_count": 3,
      "outputs": [
        {
          "output_type": "stream",
          "text": [
            "len of trainSet 60000 , len of testSet 10000\n"
          ],
          "name": "stdout"
        }
      ]
    },
    {
      "cell_type": "code",
      "metadata": {
        "id": "rTDdywKGiXdp",
        "colab_type": "code",
        "colab": {
          "base_uri": "https://localhost:8080/",
          "height": 265
        },
        "outputId": "85f18711-f4b8-4f84-abd3-ef31f3af3817"
      },
      "source": [
        "plt.imshow(trainset[0][0].reshape((28,28)), cmap=\"gray\");"
      ],
      "execution_count": 4,
      "outputs": [
        {
          "output_type": "display_data",
          "data": {
            "image/png": "[encoded data removed]",
            "text/plain": [
              "<Figure size 432x288 with 1 Axes>"
            ]
          },
          "metadata": {
            "tags": []
          }
        }
      ]
    },
    {
      "cell_type": "markdown",
      "metadata": {
        "id": "OgcoOQ75nCON",
        "colab_type": "text"
      },
      "source": [
        "### 1 Layer Network with ReLU Activation"
      ]
    },
    {
      "cell_type": "code",
      "metadata": {
        "id": "9rM0IdBgnLZE",
        "colab_type": "code",
        "colab": {
          "base_uri": "https://localhost:8080/",
          "height": 319
        },
        "outputId": "b8f79487-8cf8-466b-9ee9-a96d3f72e9aa"
      },
      "source": [
        "# Without Dropout\n",
        "from torch import optim\n",
        "\n",
        "torch.manual_seed(101)\n",
        "model_1layer=nn.Sequential(\n",
        "    nn.Linear(784,256),\n",
        "    nn.ReLU(),\n",
        "    nn.Linear(256,64),\n",
        "    nn.ReLU(),\n",
        "    nn.Linear(64,10),\n",
        "    nn.LogSoftmax(dim=1)\n",
        ")\n",
        "# Define loss function & optimizer\n",
        "criterion = nn.CrossEntropyLoss()\n",
        "optimizer_1layer=optim.SGD(model_1layer.parameters(), lr=0.01)\n",
        "\n",
        "print(\"Model without dropout:\",model_1layer)\n",
        "\n",
        "# With Dropout\n",
        "\n",
        "model_drop_1layer= nn.Sequential(\n",
        "    nn.Linear(784,256),\n",
        "    torch.nn.Dropout(0.2),\n",
        "    nn.ReLU(),\n",
        "    nn.Linear(256,64),\n",
        "    torch.nn.Dropout(0.2),\n",
        "    nn.ReLU(),\n",
        "    nn.Linear(64,10),\n",
        "    nn.LogSoftmax(dim=1)\n",
        ")\n",
        "optimizer_drop_1layer=optim.SGD(model_drop_1layer.parameters(), lr=0.01)\n",
        "print(\"Model with dropout:\",model_drop_1layer)"
      ],
      "execution_count": 5,
      "outputs": [
        {
          "output_type": "stream",
          "text": [
            "Model without dropout: Sequential(\n",
            "  (0): Linear(in_features=784, out_features=256, bias=True)\n",
            "  (1): ReLU()\n",
            "  (2): Linear(in_features=256, out_features=64, bias=True)\n",
            "  (3): ReLU()\n",
            "  (4): Linear(in_features=64, out_features=10, bias=True)\n",
            "  (5): LogSoftmax()\n",
            ")\n",
            "Model with dropout: Sequential(\n",
            "  (0): Linear(in_features=784, out_features=256, bias=True)\n",
            "  (1): Dropout(p=0.2, inplace=False)\n",
            "  (2): ReLU()\n",
            "  (3): Linear(in_features=256, out_features=64, bias=True)\n",
            "  (4): Dropout(p=0.2, inplace=False)\n",
            "  (5): ReLU()\n",
            "  (6): Linear(in_features=64, out_features=10, bias=True)\n",
            "  (7): LogSoftmax()\n",
            ")\n"
          ],
          "name": "stdout"
        }
      ]
    },
    {
      "cell_type": "code",
      "metadata": {
        "id": "vvaKrAkun5C6",
        "colab_type": "code",
        "colab": {
          "base_uri": "https://localhost:8080/",
          "height": 151
        },
        "outputId": "9f4a2130-87b5-4c0f-dabe-89a6fc95a9fa"
      },
      "source": [
        "def count_parameters(model):\n",
        "    params = [p.numel() for p in model.parameters() if p.requires_grad]\n",
        "    for item in params:\n",
        "        print(f'{item:>6}')\n",
        "    print(f'______\\n{sum(params):>6}')\n",
        "\n",
        "count_parameters(model_1layer)"
      ],
      "execution_count": 6,
      "outputs": [
        {
          "output_type": "stream",
          "text": [
            "200704\n",
            "   256\n",
            " 16384\n",
            "    64\n",
            "   640\n",
            "    10\n",
            "______\n",
            "218058\n"
          ],
          "name": "stdout"
        }
      ]
    },
    {
      "cell_type": "code",
      "metadata": {
        "id": "UQId6deDoVgc",
        "colab_type": "code",
        "colab": {
          "base_uri": "https://localhost:8080/",
          "height": 554
        },
        "outputId": "925ae905-203f-4d6f-a977-c2e7c4a03c73"
      },
      "source": [
        "import time\n",
        "start_time = time.time()\n",
        "\n",
        "epochs = 10\n",
        "# Without dropout\n",
        "train_losses,test_losses=[],[]\n",
        "train_correct,test_correct = [],[]\n",
        "acc =[]\n",
        "\n",
        "for i in range(epochs):\n",
        "    train = 0\n",
        "    test = 0\n",
        "    runningloss = 0\n",
        "\n",
        "    # Run the training batches on model without dropout\n",
        "    for b, (X_train, y_train) in enumerate(trainloader):\n",
        "        b+=1\n",
        "        \n",
        "        # Apply the model\n",
        "        y_pred = model_1layer(X_train.view(100, -1))  # Here we flatten X_train\n",
        "        loss = criterion(y_pred, y_train)\n",
        " \n",
        "        # Tally the number of correct predictions\n",
        "        predicted = torch.max(y_pred.data, 1)[1]\n",
        "        batch_corr = (predicted == y_train).sum()\n",
        "        train += batch_corr\n",
        "        \n",
        "        # Update parameters\n",
        "        optimizer_1layer.zero_grad()\n",
        "        loss.backward()\n",
        "        optimizer_1layer.step()\n",
        "        \n",
        "        # Print interim results\n",
        "        if b%200 == 0:\n",
        "            print(f'epoch: {i:2}  batch: {b:4} [{100*b:6}/60000]  loss: {loss.item():10.8f}  accuracy: {train.item()*100/(100*b):7.3f}%')\n",
        "    \n",
        "    # Update train loss & accuracy for the epoch\n",
        "    train_losses.append(loss)\n",
        "    train_correct.append(train)\n",
        "        \n",
        "    # Run the testing batches\n",
        "    with torch.no_grad():\n",
        "        for b, (X_test, y_test) in enumerate(testloader):\n",
        "\n",
        "            # Apply the model\n",
        "            y_val = model_1layer(X_test.view(len(X_test), -1))  # Here we flatten X_test\n",
        "\n",
        "            # Tally the number of correct predictions\n",
        "            predicted = torch.max(y_val.data, 1)[1] \n",
        "            test += (predicted == y_test).sum()\n",
        "    \n",
        "    # Update test loss & accuracy for the epoch\n",
        "    loss = criterion(y_val, y_test)\n",
        "    test_losses.append(loss)\n",
        "    test_correct.append(test)\n",
        "\n",
        "    \n",
        "print(f'\\nDuration: {time.time() - start_time:.0f} seconds') # print the time elapsed"
      ],
      "execution_count": 7,
      "outputs": [
        {
          "output_type": "stream",
          "text": [
            "epoch:  0  batch:  200 [ 20000/60000]  loss: 2.23346734  accuracy:  26.950%\n",
            "epoch:  0  batch:  400 [ 40000/60000]  loss: 2.03533053  accuracy:  38.227%\n",
            "epoch:  0  batch:  600 [ 60000/60000]  loss: 1.59038711  accuracy:  45.373%\n",
            "epoch:  1  batch:  200 [ 20000/60000]  loss: 1.10846281  accuracy:  70.140%\n",
            "epoch:  1  batch:  400 [ 40000/60000]  loss: 0.84866494  accuracy:  74.002%\n",
            "epoch:  1  batch:  600 [ 60000/60000]  loss: 0.53576815  accuracy:  76.680%\n",
            "epoch:  2  batch:  200 [ 20000/60000]  loss: 0.52371842  accuracy:  84.615%\n",
            "epoch:  2  batch:  400 [ 40000/60000]  loss: 0.51207304  accuracy:  85.353%\n",
            "epoch:  2  batch:  600 [ 60000/60000]  loss: 0.32794735  accuracy:  85.928%\n",
            "epoch:  3  batch:  200 [ 20000/60000]  loss: 0.34750146  accuracy:  87.615%\n",
            "epoch:  3  batch:  400 [ 40000/60000]  loss: 0.41872269  accuracy:  87.970%\n",
            "epoch:  3  batch:  600 [ 60000/60000]  loss: 0.52550006  accuracy:  88.355%\n",
            "epoch:  4  batch:  200 [ 20000/60000]  loss: 0.52991581  accuracy:  89.060%\n",
            "epoch:  4  batch:  400 [ 40000/60000]  loss: 0.39030534  accuracy:  89.145%\n",
            "epoch:  4  batch:  600 [ 60000/60000]  loss: 0.29831833  accuracy:  89.467%\n",
            "epoch:  5  batch:  200 [ 20000/60000]  loss: 0.30001521  accuracy:  90.220%\n",
            "epoch:  5  batch:  400 [ 40000/60000]  loss: 0.27294427  accuracy:  90.183%\n",
            "epoch:  5  batch:  600 [ 60000/60000]  loss: 0.23728764  accuracy:  90.133%\n",
            "epoch:  6  batch:  200 [ 20000/60000]  loss: 0.33193657  accuracy:  90.580%\n",
            "epoch:  6  batch:  400 [ 40000/60000]  loss: 0.42622897  accuracy:  90.570%\n",
            "epoch:  6  batch:  600 [ 60000/60000]  loss: 0.28886744  accuracy:  90.623%\n",
            "epoch:  7  batch:  200 [ 20000/60000]  loss: 0.28346103  accuracy:  90.730%\n",
            "epoch:  7  batch:  400 [ 40000/60000]  loss: 0.26971570  accuracy:  91.022%\n",
            "epoch:  7  batch:  600 [ 60000/60000]  loss: 0.15683822  accuracy:  91.060%\n",
            "epoch:  8  batch:  200 [ 20000/60000]  loss: 0.33894384  accuracy:  91.275%\n",
            "epoch:  8  batch:  400 [ 40000/60000]  loss: 0.20210606  accuracy:  91.400%\n",
            "epoch:  8  batch:  600 [ 60000/60000]  loss: 0.20672670  accuracy:  91.477%\n",
            "epoch:  9  batch:  200 [ 20000/60000]  loss: 0.28260696  accuracy:  91.715%\n",
            "epoch:  9  batch:  400 [ 40000/60000]  loss: 0.10764524  accuracy:  91.720%\n",
            "epoch:  9  batch:  600 [ 60000/60000]  loss: 0.26343855  accuracy:  91.845%\n",
            "\n",
            "Duration: 57 seconds\n"
          ],
          "name": "stdout"
        }
      ]
    },
    {
      "cell_type": "code",
      "metadata": {
        "id": "8J78_Sejomdv",
        "colab_type": "code",
        "colab": {
          "base_uri": "https://localhost:8080/",
          "height": 571
        },
        "outputId": "3c0e7829-1547-41d4-eb2a-4c7f3bbd16d9"
      },
      "source": [
        "#With dropout\n",
        "start_time = time.time()\n",
        "print(\" Repeating the above steps on model with dropout 0.2\")\n",
        "epochs = 10\n",
        "train_losses_d,test_losses_d=[],[]\n",
        "train_correct_d,test_correct_d = [],[]\n",
        "acc_d =[]\n",
        "for i in range(epochs):\n",
        "    train_d = 0\n",
        "    test_d = 0\n",
        "    runningloss_d = 0\n",
        "    \n",
        "    \n",
        "    # Run the training batches on model with dropout\n",
        "    for b, (X_train, y_train) in enumerate(trainloader):\n",
        "        b+=1\n",
        "        \n",
        "        # Apply the model\n",
        "        y_pred_d = model_drop_1layer(X_train.view(100, -1))  # Here we flatten X_train\n",
        "        loss_d = criterion(y_pred_d, y_train)\n",
        " \n",
        "        # Tally the number of correct predictions\n",
        "        predicted_d = torch.max(y_pred_d.data, 1)[1]\n",
        "        batch_corr_d = (predicted_d == y_train).sum()\n",
        "        train_d += batch_corr_d\n",
        "        \n",
        "        # Update parameters\n",
        "        optimizer_drop_1layer.zero_grad()\n",
        "        loss_d.backward()\n",
        "        optimizer_drop_1layer.step()\n",
        "        \n",
        "        # Print interim results\n",
        "        if b%200 == 0:\n",
        "            print(f'epoch: {i:2}  batch: {b:4} [{100*b:6}/60000]  loss: {loss_d.item():10.8f}  accuracy: {train_d.item()*100/(100*b):7.3f}%')\n",
        "    \n",
        "    # Update train loss & accuracy for the epoch\n",
        "    train_losses_d.append(loss_d)\n",
        "    train_correct_d.append(train_d)\n",
        "        \n",
        "    # Run the testing batches\n",
        "    with torch.no_grad():\n",
        "        for b, (X_test, y_test) in enumerate(testloader):\n",
        "\n",
        "            # Apply the model\n",
        "            y_val = model_drop_1layer(X_test.view(len(X_test), -1))  # Here we flatten X_test\n",
        "\n",
        "            # Tally the number of correct predictions\n",
        "            predicted_d = torch.max(y_val.data, 1)[1] \n",
        "            test_d += (predicted_d == y_test).sum()\n",
        "    \n",
        "    # Update test loss & accuracy for the epoch\n",
        "    loss_d = criterion(y_val, y_test)\n",
        "    test_losses_d.append(loss_d)\n",
        "    test_correct_d.append(test_d)\n",
        "        \n",
        "print(f'\\nDuration: {time.time() - start_time:.0f} seconds') # print the time elapsed"
      ],
      "execution_count": 8,
      "outputs": [
        {
          "output_type": "stream",
          "text": [
            " Repeating the above steps on model with dropout 0.2\n",
            "epoch:  0  batch:  200 [ 20000/60000]  loss: 2.23652577  accuracy:  17.930%\n",
            "epoch:  0  batch:  400 [ 40000/60000]  loss: 2.06832004  accuracy:  30.277%\n",
            "epoch:  0  batch:  600 [ 60000/60000]  loss: 1.66381335  accuracy:  38.667%\n",
            "epoch:  1  batch:  200 [ 20000/60000]  loss: 1.19470358  accuracy:  64.995%\n",
            "epoch:  1  batch:  400 [ 40000/60000]  loss: 0.91857123  accuracy:  68.108%\n",
            "epoch:  1  batch:  600 [ 60000/60000]  loss: 0.59512812  accuracy:  70.550%\n",
            "epoch:  2  batch:  200 [ 20000/60000]  loss: 0.69556582  accuracy:  78.135%\n",
            "epoch:  2  batch:  400 [ 40000/60000]  loss: 0.61799318  accuracy:  79.132%\n",
            "epoch:  2  batch:  600 [ 60000/60000]  loss: 0.53534091  accuracy:  80.027%\n",
            "epoch:  3  batch:  200 [ 20000/60000]  loss: 0.52449238  accuracy:  83.290%\n",
            "epoch:  3  batch:  400 [ 40000/60000]  loss: 0.46352813  accuracy:  83.847%\n",
            "epoch:  3  batch:  600 [ 60000/60000]  loss: 0.52885050  accuracy:  84.307%\n",
            "epoch:  4  batch:  200 [ 20000/60000]  loss: 0.41769123  accuracy:  85.805%\n",
            "epoch:  4  batch:  400 [ 40000/60000]  loss: 0.37171566  accuracy:  85.993%\n",
            "epoch:  4  batch:  600 [ 60000/60000]  loss: 0.57151347  accuracy:  86.163%\n",
            "epoch:  5  batch:  200 [ 20000/60000]  loss: 0.37884998  accuracy:  87.125%\n",
            "epoch:  5  batch:  400 [ 40000/60000]  loss: 0.58504313  accuracy:  87.207%\n",
            "epoch:  5  batch:  600 [ 60000/60000]  loss: 0.30990115  accuracy:  87.475%\n",
            "epoch:  6  batch:  200 [ 20000/60000]  loss: 0.27607870  accuracy:  88.100%\n",
            "epoch:  6  batch:  400 [ 40000/60000]  loss: 0.38832378  accuracy:  88.272%\n",
            "epoch:  6  batch:  600 [ 60000/60000]  loss: 0.43176925  accuracy:  88.445%\n",
            "epoch:  7  batch:  200 [ 20000/60000]  loss: 0.63385916  accuracy:  89.215%\n",
            "epoch:  7  batch:  400 [ 40000/60000]  loss: 0.38582793  accuracy:  89.480%\n",
            "epoch:  7  batch:  600 [ 60000/60000]  loss: 0.31351840  accuracy:  89.420%\n",
            "epoch:  8  batch:  200 [ 20000/60000]  loss: 0.30572915  accuracy:  89.795%\n",
            "epoch:  8  batch:  400 [ 40000/60000]  loss: 0.24496445  accuracy:  89.830%\n",
            "epoch:  8  batch:  600 [ 60000/60000]  loss: 0.50892347  accuracy:  89.972%\n",
            "epoch:  9  batch:  200 [ 20000/60000]  loss: 0.37683627  accuracy:  89.945%\n",
            "epoch:  9  batch:  400 [ 40000/60000]  loss: 0.27348650  accuracy:  90.457%\n",
            "epoch:  9  batch:  600 [ 60000/60000]  loss: 0.24985124  accuracy:  90.443%\n",
            "\n",
            "Duration: 58 seconds\n"
          ],
          "name": "stdout"
        }
      ]
    },
    {
      "cell_type": "code",
      "metadata": {
        "id": "jFK7pH9VqXgW",
        "colab_type": "code",
        "colab": {
          "base_uri": "https://localhost:8080/",
          "height": 281
        },
        "outputId": "5c5bbe07-7265-4467-d4f4-907179c8aff2"
      },
      "source": [
        "plt.plot(train_losses, label='training loss')\n",
        "plt.plot(test_losses, label='validation loss')\n",
        "plt.title('Loss at the end of each epoch in model without dropout')\n",
        "plt.legend();"
      ],
      "execution_count": 9,
      "outputs": [
        {
          "output_type": "display_data",
          "data": {
            "image/png": "[encoded data removed]",
            "text/plain": [
              "<Figure size 432x288 with 1 Axes>"
            ]
          },
          "metadata": {
            "tags": []
          }
        }
      ]
    },
    {
      "cell_type": "code",
      "metadata": {
        "id": "beRRBAvvqfkS",
        "colab_type": "code",
        "colab": {
          "base_uri": "https://localhost:8080/",
          "height": 281
        },
        "outputId": "d980d5fd-6b55-46df-e667-303126fcd342"
      },
      "source": [
        "plt.plot(train_losses_d, label='training loss')\n",
        "plt.plot(test_losses_d, label='validation loss')\n",
        "plt.title('Loss at the end of each epoch in model with dropout')\n",
        "plt.legend();"
      ],
      "execution_count": 10,
      "outputs": [
        {
          "output_type": "display_data",
          "data": {
            "image/png": "[encoded data removed]",
            "text/plain": [
              "<Figure size 432x288 with 1 Axes>"
            ]
          },
          "metadata": {
            "tags": []
          }
        }
      ]
    },
    {
      "cell_type": "code",
      "metadata": {
        "colab_type": "code",
        "outputId": "08e56242-b5e6-40f4-c15e-7a9f767bc0df",
        "id": "EUkK6XyrqrCi",
        "colab": {
          "base_uri": "https://localhost:8080/",
          "height": 67
        }
      },
      "source": [
        "# Test Accuracy\n",
        "print(test_correct) # contains the results of all 10 epochs\n",
        "print()\n",
        "print(f'Test accuracy: {test_correct[-1].item()*100/10000:.3f}%') # print the most recent result as a percent"
      ],
      "execution_count": 11,
      "outputs": [
        {
          "output_type": "stream",
          "text": [
            "[tensor(6463), tensor(8386), tensor(8798), tensor(8939), tensor(9016), tensor(9092), tensor(9124), tensor(9159), tensor(9212), tensor(9244)]\n",
            "\n",
            "Test accuracy: 92.440%\n"
          ],
          "name": "stdout"
        }
      ]
    },
    {
      "cell_type": "code",
      "metadata": {
        "colab_type": "code",
        "outputId": "46caeb60-b8da-45c7-8c16-fc6033a2d2f2",
        "id": "G1ReOtXEqrC2",
        "colab": {
          "base_uri": "https://localhost:8080/",
          "height": 34
        }
      },
      "source": [
        "# However, we'd like to compare the predicted values to the ground truth (the y_test labels), so we'll run the test set through the trained model all at once.\n",
        "\n",
        "# Extract the data all at once, not in batches\n",
        "test_load_all = torch.utils.data.DataLoader(testset, batch_size=10000, shuffle=False)\n",
        "\n",
        "with torch.no_grad():\n",
        "    correct = 0\n",
        "    for X_test, y_test in test_load_all:\n",
        "        y_val = model_1layer(X_test.view(len(X_test), -1))  # pass in a flattened view of X_test\n",
        "        predicted = torch.max(y_val,1)[1]\n",
        "        correct += (predicted == y_test).sum()\n",
        "print(f'Test accuracy: {correct.item()}/{len(testset)} = {correct.item()*100/(len(testset)):7.3f}%')"
      ],
      "execution_count": 12,
      "outputs": [
        {
          "output_type": "stream",
          "text": [
            "Test accuracy: 9244/10000 =  92.440%\n"
          ],
          "name": "stdout"
        }
      ]
    },
    {
      "cell_type": "code",
      "metadata": {
        "colab_type": "code",
        "outputId": "f91263c1-3a1d-4bc6-bf44-6eeb0c2d42be",
        "id": "wggKv_FOqrC7",
        "colab": {
          "base_uri": "https://localhost:8080/",
          "height": 67
        }
      },
      "source": [
        "# Test Accuracy\n",
        "print(test_correct_d) # contains the results of all 10 epochs\n",
        "print()\n",
        "print(f'Test accuracy: {test_correct_d[-1].item()*100/10000:.3f}%') # print the most recent result as a percent"
      ],
      "execution_count": 13,
      "outputs": [
        {
          "output_type": "stream",
          "text": [
            "[tensor(6117), tensor(7743), tensor(8328), tensor(8624), tensor(8729), tensor(8840), tensor(8903), tensor(9005), tensor(9057), tensor(9082)]\n",
            "\n",
            "Test accuracy: 90.820%\n"
          ],
          "name": "stdout"
        }
      ]
    },
    {
      "cell_type": "code",
      "metadata": {
        "colab_type": "code",
        "outputId": "0bc97469-3914-4252-b7b5-ba34a7009bf1",
        "id": "3iZo8CZAqrC_",
        "colab": {
          "base_uri": "https://localhost:8080/",
          "height": 34
        }
      },
      "source": [
        "# However, we'd like to compare the predicted values to the ground truth (the y_test labels), so we'll run the test set through the trained model all at once.\n",
        "\n",
        "# Extract the data all at once, not in batches\n",
        "test_load_all = torch.utils.data.DataLoader(testset, batch_size=10000, shuffle=False)\n",
        "\n",
        "with torch.no_grad():\n",
        "    correct = 0\n",
        "    for X_test, y_test in test_load_all:\n",
        "        y_val = model_drop_1layer(X_test.view(len(X_test), -1))  # pass in a flattened view of X_test\n",
        "        predicted = torch.max(y_val,1)[1]\n",
        "        correct += (predicted == y_test).sum()\n",
        "print(f'Test accuracy: {correct.item()}/{len(testset)} = {correct.item()*100/(len(testset)):7.3f}%')"
      ],
      "execution_count": 14,
      "outputs": [
        {
          "output_type": "stream",
          "text": [
            "Test accuracy: 9093/10000 =  90.930%\n"
          ],
          "name": "stdout"
        }
      ]
    },
    {
      "cell_type": "markdown",
      "metadata": {
        "id": "ofLQWVoRDc44",
        "colab_type": "text"
      },
      "source": [
        "### 2 Layer Network with ReLU Activation"
      ]
    },
    {
      "cell_type": "code",
      "metadata": {
        "id": "SZJ6iY9Yjhvv",
        "colab_type": "code",
        "colab": {
          "base_uri": "https://localhost:8080/",
          "height": 403
        },
        "outputId": "53d8cdb1-fb68-4c74-8b5c-b27193fa6714"
      },
      "source": [
        "# Without Dropout\n",
        "\n",
        "torch.manual_seed(101)\n",
        "model_2layer=nn.Sequential(\n",
        "    nn.Linear(784,256),\n",
        "    nn.ReLU(),\n",
        "    nn.Linear(256,128),\n",
        "    nn.ReLU(),\n",
        "    nn.Linear(128,64),\n",
        "    nn.ReLU(),\n",
        "    nn.Linear(64,10),\n",
        "    nn.LogSoftmax(dim=1)\n",
        ")\n",
        "# Define loss function & optimizer\n",
        "criterion = nn.CrossEntropyLoss()\n",
        "optimizer=optim.SGD(model_2layer.parameters(), lr=0.01)\n",
        "\n",
        "print(\"Model without dropout:\",model_2layer)\n",
        "\n",
        "# With Dropout\n",
        "\n",
        "model_drop_2layer= nn.Sequential(\n",
        "    nn.Linear(784,256),\n",
        "    torch.nn.Dropout(0.2),\n",
        "    nn.ReLU(),\n",
        "    nn.Linear(256,128),\n",
        "    torch.nn.Dropout(0.2),\n",
        "    nn.ReLU(),\n",
        "    nn.Linear(128,64),\n",
        "    torch.nn.Dropout(0.2),\n",
        "    nn.ReLU(),\n",
        "    nn.Linear(64,10),\n",
        "    nn.LogSoftmax(dim=1)\n",
        ")\n",
        "optimizer_drop=optim.SGD(model_drop_2layer.parameters(), lr=0.01)\n",
        "print(\"Model with dropout:\",model_drop_2layer)"
      ],
      "execution_count": 15,
      "outputs": [
        {
          "output_type": "stream",
          "text": [
            "Model without dropout: Sequential(\n",
            "  (0): Linear(in_features=784, out_features=256, bias=True)\n",
            "  (1): ReLU()\n",
            "  (2): Linear(in_features=256, out_features=128, bias=True)\n",
            "  (3): ReLU()\n",
            "  (4): Linear(in_features=128, out_features=64, bias=True)\n",
            "  (5): ReLU()\n",
            "  (6): Linear(in_features=64, out_features=10, bias=True)\n",
            "  (7): LogSoftmax()\n",
            ")\n",
            "Model with dropout: Sequential(\n",
            "  (0): Linear(in_features=784, out_features=256, bias=True)\n",
            "  (1): Dropout(p=0.2, inplace=False)\n",
            "  (2): ReLU()\n",
            "  (3): Linear(in_features=256, out_features=128, bias=True)\n",
            "  (4): Dropout(p=0.2, inplace=False)\n",
            "  (5): ReLU()\n",
            "  (6): Linear(in_features=128, out_features=64, bias=True)\n",
            "  (7): Dropout(p=0.2, inplace=False)\n",
            "  (8): ReLU()\n",
            "  (9): Linear(in_features=64, out_features=10, bias=True)\n",
            "  (10): LogSoftmax()\n",
            ")\n"
          ],
          "name": "stdout"
        }
      ]
    },
    {
      "cell_type": "code",
      "metadata": {
        "id": "P9zWKdWv3CBa",
        "colab_type": "code",
        "colab": {
          "base_uri": "https://localhost:8080/",
          "height": 185
        },
        "outputId": "151c053e-12c7-4409-cae5-ff28c9fe6c32"
      },
      "source": [
        "count_parameters(model_2layer)"
      ],
      "execution_count": 16,
      "outputs": [
        {
          "output_type": "stream",
          "text": [
            "200704\n",
            "   256\n",
            " 32768\n",
            "   128\n",
            "  8192\n",
            "    64\n",
            "   640\n",
            "    10\n",
            "______\n",
            "242762\n"
          ],
          "name": "stdout"
        }
      ]
    },
    {
      "cell_type": "code",
      "metadata": {
        "id": "4Bb0IdsskUlC",
        "colab_type": "code",
        "colab": {
          "base_uri": "https://localhost:8080/",
          "height": 34
        },
        "outputId": "25ecff50-844d-41a8-a62a-eb5fbee30509"
      },
      "source": [
        "# Flattening the train data\n",
        "dataiter = iter(trainloader)\n",
        "images, labels = dataiter.next()\n",
        "print('Batch shape:', images.size())"
      ],
      "execution_count": 17,
      "outputs": [
        {
          "output_type": "stream",
          "text": [
            "Batch shape: torch.Size([100, 1, 28, 28])\n"
          ],
          "name": "stdout"
        }
      ]
    },
    {
      "cell_type": "code",
      "metadata": {
        "id": "8AKePsbwkud7",
        "colab_type": "code",
        "colab": {
          "base_uri": "https://localhost:8080/",
          "height": 34
        },
        "outputId": "a708c7a6-86f5-4155-8fa5-a00ea8343619"
      },
      "source": [
        "images.view(100,-1).size()"
      ],
      "execution_count": 18,
      "outputs": [
        {
          "output_type": "execute_result",
          "data": {
            "text/plain": [
              "torch.Size([100, 784])"
            ]
          },
          "metadata": {
            "tags": []
          },
          "execution_count": 18
        }
      ]
    },
    {
      "cell_type": "code",
      "metadata": {
        "id": "xEnHek9vk0VH",
        "colab_type": "code",
        "colab": {
          "base_uri": "https://localhost:8080/",
          "height": 554
        },
        "outputId": "5766644c-d8b2-408c-c89d-142a44eb3bb6"
      },
      "source": [
        "start_time = time.time()\n",
        "\n",
        "epochs = 10\n",
        "# Without dropout\n",
        "train_losses,test_losses=[],[]\n",
        "train_correct,test_correct = [],[]\n",
        "acc =[]\n",
        "\n",
        "for i in range(epochs):\n",
        "    train = 0\n",
        "    test = 0\n",
        "    runningloss = 0\n",
        "\n",
        "    # Run the training batches on model without dropout\n",
        "    for b, (X_train, y_train) in enumerate(trainloader):\n",
        "        b+=1\n",
        "        \n",
        "        # Apply the model\n",
        "        y_pred = model_2layer(X_train.view(100, -1))  # Here we flatten X_train\n",
        "        loss = criterion(y_pred, y_train)\n",
        " \n",
        "        # Tally the number of correct predictions\n",
        "        predicted = torch.max(y_pred.data, 1)[1]\n",
        "        batch_corr = (predicted == y_train).sum()\n",
        "        train += batch_corr\n",
        "        \n",
        "        # Update parameters\n",
        "        optimizer.zero_grad()\n",
        "        loss.backward()\n",
        "        optimizer.step()\n",
        "        \n",
        "        # Print interim results\n",
        "        if b%200 == 0:\n",
        "            print(f'epoch: {i:2}  batch: {b:4} [{100*b:6}/60000]  loss: {loss.item():10.8f}  accuracy: {train.item()*100/(100*b):7.3f}%')\n",
        "    \n",
        "    # Update train loss & accuracy for the epoch\n",
        "    train_losses.append(loss)\n",
        "    train_correct.append(train)\n",
        "        \n",
        "    # Run the testing batches\n",
        "    with torch.no_grad():\n",
        "        for b, (X_test, y_test) in enumerate(testloader):\n",
        "\n",
        "            # Apply the model\n",
        "            y_val = model_2layer(X_test.view(len(X_test), -1))  # Here we flatten X_test\n",
        "\n",
        "            # Tally the number of correct predictions\n",
        "            predicted = torch.max(y_val.data, 1)[1] \n",
        "            test += (predicted == y_test).sum()\n",
        "    \n",
        "    # Update test loss & accuracy for the epoch\n",
        "    loss = criterion(y_val, y_test)\n",
        "    test_losses.append(loss)\n",
        "    test_correct.append(test)\n",
        "\n",
        "    \n",
        "print(f'\\nDuration: {time.time() - start_time:.0f} seconds') # print the time elapsed"
      ],
      "execution_count": 19,
      "outputs": [
        {
          "output_type": "stream",
          "text": [
            "epoch:  0  batch:  200 [ 20000/60000]  loss: 2.28464723  accuracy:  11.455%\n",
            "epoch:  0  batch:  400 [ 40000/60000]  loss: 2.26160812  accuracy:  15.320%\n",
            "epoch:  0  batch:  600 [ 60000/60000]  loss: 2.22960305  accuracy:  20.000%\n",
            "epoch:  1  batch:  200 [ 20000/60000]  loss: 2.12290335  accuracy:  44.830%\n",
            "epoch:  1  batch:  400 [ 40000/60000]  loss: 1.81436145  accuracy:  48.097%\n",
            "epoch:  1  batch:  600 [ 60000/60000]  loss: 1.20119429  accuracy:  52.768%\n",
            "epoch:  2  batch:  200 [ 20000/60000]  loss: 0.95671767  accuracy:  72.085%\n",
            "epoch:  2  batch:  400 [ 40000/60000]  loss: 0.73457628  accuracy:  74.853%\n",
            "epoch:  2  batch:  600 [ 60000/60000]  loss: 0.65003085  accuracy:  76.948%\n",
            "epoch:  3  batch:  200 [ 20000/60000]  loss: 0.52507651  accuracy:  83.505%\n",
            "epoch:  3  batch:  400 [ 40000/60000]  loss: 0.49688798  accuracy:  84.498%\n",
            "epoch:  3  batch:  600 [ 60000/60000]  loss: 0.43900105  accuracy:  85.267%\n",
            "epoch:  4  batch:  200 [ 20000/60000]  loss: 0.33709332  accuracy:  87.495%\n",
            "epoch:  4  batch:  400 [ 40000/60000]  loss: 0.44449410  accuracy:  87.770%\n",
            "epoch:  4  batch:  600 [ 60000/60000]  loss: 0.38891223  accuracy:  87.968%\n",
            "epoch:  5  batch:  200 [ 20000/60000]  loss: 0.40356454  accuracy:  88.670%\n",
            "epoch:  5  batch:  400 [ 40000/60000]  loss: 0.57736278  accuracy:  89.045%\n",
            "epoch:  5  batch:  600 [ 60000/60000]  loss: 0.31524226  accuracy:  89.315%\n",
            "epoch:  6  batch:  200 [ 20000/60000]  loss: 0.31772006  accuracy:  89.925%\n",
            "epoch:  6  batch:  400 [ 40000/60000]  loss: 0.32911855  accuracy:  89.985%\n",
            "epoch:  6  batch:  600 [ 60000/60000]  loss: 0.86252534  accuracy:  90.072%\n",
            "epoch:  7  batch:  200 [ 20000/60000]  loss: 0.39855653  accuracy:  90.575%\n",
            "epoch:  7  batch:  400 [ 40000/60000]  loss: 0.39077818  accuracy:  90.695%\n",
            "epoch:  7  batch:  600 [ 60000/60000]  loss: 0.42154860  accuracy:  90.807%\n",
            "epoch:  8  batch:  200 [ 20000/60000]  loss: 0.32428575  accuracy:  91.155%\n",
            "epoch:  8  batch:  400 [ 40000/60000]  loss: 0.24075824  accuracy:  91.397%\n",
            "epoch:  8  batch:  600 [ 60000/60000]  loss: 0.22698595  accuracy:  91.373%\n",
            "epoch:  9  batch:  200 [ 20000/60000]  loss: 0.26732713  accuracy:  91.995%\n",
            "epoch:  9  batch:  400 [ 40000/60000]  loss: 0.16711666  accuracy:  92.103%\n",
            "epoch:  9  batch:  600 [ 60000/60000]  loss: 0.31805813  accuracy:  92.017%\n",
            "\n",
            "Duration: 59 seconds\n"
          ],
          "name": "stdout"
        }
      ]
    },
    {
      "cell_type": "code",
      "metadata": {
        "id": "iNuf_BQ_AvjZ",
        "colab_type": "code",
        "outputId": "e742e638-897b-4272-fec2-a7719d469947",
        "colab": {
          "base_uri": "https://localhost:8080/",
          "height": 571
        }
      },
      "source": [
        "#With dropout\n",
        "start_time = time.time()\n",
        "print(\" Repeating the above steps on model with dropout 0.2\")\n",
        "epochs = 10\n",
        "train_losses_d,test_losses_d=[],[]\n",
        "train_correct_d,test_correct_d = [],[]\n",
        "acc_d =[]\n",
        "for i in range(epochs):\n",
        "    train_d = 0\n",
        "    test_d = 0\n",
        "    runningloss_d = 0\n",
        "    \n",
        "    \n",
        "    # Run the training batches on model with dropout\n",
        "    for b, (X_train, y_train) in enumerate(trainloader):\n",
        "        b+=1\n",
        "        \n",
        "        # Apply the model\n",
        "        y_pred_d = model_drop_2layer(X_train.view(100, -1))  # Here we flatten X_train\n",
        "        loss_d = criterion(y_pred_d, y_train)\n",
        " \n",
        "        # Tally the number of correct predictions\n",
        "        predicted_d = torch.max(y_pred_d.data, 1)[1]\n",
        "        batch_corr_d = (predicted_d == y_train).sum()\n",
        "        train_d += batch_corr_d\n",
        "        \n",
        "        # Update parameters\n",
        "        optimizer_drop.zero_grad()\n",
        "        loss_d.backward()\n",
        "        optimizer_drop.step()\n",
        "        \n",
        "        # Print interim results\n",
        "        if b%200 == 0:\n",
        "            print(f'epoch: {i:2}  batch: {b:4} [{100*b:6}/60000]  loss: {loss_d.item():10.8f}  accuracy: {train_d.item()*100/(100*b):7.3f}%')\n",
        "    \n",
        "    # Update train loss & accuracy for the epoch\n",
        "    train_losses_d.append(loss_d)\n",
        "    train_correct_d.append(train_d)\n",
        "        \n",
        "    # Run the testing batches\n",
        "    with torch.no_grad():\n",
        "        for b, (X_test, y_test) in enumerate(testloader):\n",
        "\n",
        "            # Apply the model\n",
        "            y_val = model_drop_2layer(X_test.view(len(X_test), -1))  # Here we flatten X_test\n",
        "\n",
        "            # Tally the number of correct predictions\n",
        "            predicted_d = torch.max(y_val.data, 1)[1] \n",
        "            test_d += (predicted_d == y_test).sum()\n",
        "    \n",
        "    # Update test loss & accuracy for the epoch\n",
        "    loss_d = criterion(y_val, y_test)\n",
        "    test_losses_d.append(loss_d)\n",
        "    test_correct_d.append(test_d)\n",
        "        \n",
        "print(f'\\nDuration: {time.time() - start_time:.0f} seconds') # print the time elapsed"
      ],
      "execution_count": 20,
      "outputs": [
        {
          "output_type": "stream",
          "text": [
            " Repeating the above steps on model with dropout 0.2\n",
            "epoch:  0  batch:  200 [ 20000/60000]  loss: 2.28879023  accuracy:  11.205%\n",
            "epoch:  0  batch:  400 [ 40000/60000]  loss: 2.28721929  accuracy:  12.030%\n",
            "epoch:  0  batch:  600 [ 60000/60000]  loss: 2.26138210  accuracy:  14.717%\n",
            "epoch:  1  batch:  200 [ 20000/60000]  loss: 2.16455722  accuracy:  31.870%\n",
            "epoch:  1  batch:  400 [ 40000/60000]  loss: 1.96256697  accuracy:  35.248%\n",
            "epoch:  1  batch:  600 [ 60000/60000]  loss: 1.64259219  accuracy:  38.195%\n",
            "epoch:  2  batch:  200 [ 20000/60000]  loss: 1.32990789  accuracy:  50.890%\n",
            "epoch:  2  batch:  400 [ 40000/60000]  loss: 1.08678532  accuracy:  55.065%\n",
            "epoch:  2  batch:  600 [ 60000/60000]  loss: 0.82484573  accuracy:  58.743%\n",
            "epoch:  3  batch:  200 [ 20000/60000]  loss: 0.78737473  accuracy:  71.045%\n",
            "epoch:  3  batch:  400 [ 40000/60000]  loss: 0.74937403  accuracy:  72.998%\n",
            "epoch:  3  batch:  600 [ 60000/60000]  loss: 0.87554628  accuracy:  74.297%\n",
            "epoch:  4  batch:  200 [ 20000/60000]  loss: 0.56318671  accuracy:  79.715%\n",
            "epoch:  4  batch:  400 [ 40000/60000]  loss: 0.50997400  accuracy:  80.422%\n",
            "epoch:  4  batch:  600 [ 60000/60000]  loss: 0.56251049  accuracy:  81.202%\n",
            "epoch:  5  batch:  200 [ 20000/60000]  loss: 0.54846203  accuracy:  83.730%\n",
            "epoch:  5  batch:  400 [ 40000/60000]  loss: 0.57082403  accuracy:  83.925%\n",
            "epoch:  5  batch:  600 [ 60000/60000]  loss: 0.48845246  accuracy:  84.413%\n",
            "epoch:  6  batch:  200 [ 20000/60000]  loss: 0.52259493  accuracy:  85.790%\n",
            "epoch:  6  batch:  400 [ 40000/60000]  loss: 0.41222140  accuracy:  85.983%\n",
            "epoch:  6  batch:  600 [ 60000/60000]  loss: 0.59251928  accuracy:  86.265%\n",
            "epoch:  7  batch:  200 [ 20000/60000]  loss: 0.37481621  accuracy:  87.260%\n",
            "epoch:  7  batch:  400 [ 40000/60000]  loss: 0.49879044  accuracy:  87.528%\n",
            "epoch:  7  batch:  600 [ 60000/60000]  loss: 0.29977229  accuracy:  87.637%\n",
            "epoch:  8  batch:  200 [ 20000/60000]  loss: 0.32518423  accuracy:  88.065%\n",
            "epoch:  8  batch:  400 [ 40000/60000]  loss: 0.40723068  accuracy:  88.233%\n",
            "epoch:  8  batch:  600 [ 60000/60000]  loss: 0.35652828  accuracy:  88.517%\n",
            "epoch:  9  batch:  200 [ 20000/60000]  loss: 0.49120349  accuracy:  89.085%\n",
            "epoch:  9  batch:  400 [ 40000/60000]  loss: 0.22614580  accuracy:  89.195%\n",
            "epoch:  9  batch:  600 [ 60000/60000]  loss: 0.44601810  accuracy:  89.357%\n",
            "\n",
            "Duration: 61 seconds\n"
          ],
          "name": "stdout"
        }
      ]
    },
    {
      "cell_type": "code",
      "metadata": {
        "id": "iFoXuhv6qmo7",
        "colab_type": "code",
        "colab": {
          "base_uri": "https://localhost:8080/",
          "height": 281
        },
        "outputId": "d5cc2b1a-4d14-4830-953c-a8de29ccedfb"
      },
      "source": [
        "plt.plot(train_losses, label='training loss')\n",
        "plt.plot(test_losses, label='validation loss')\n",
        "plt.title('Loss at the end of each epoch in model without dropout')\n",
        "plt.legend();"
      ],
      "execution_count": 21,
      "outputs": [
        {
          "output_type": "display_data",
          "data": {
            "image/png": "[encoded data removed]",
            "text/plain": [
              "<Figure size 432x288 with 1 Axes>"
            ]
          },
          "metadata": {
            "tags": []
          }
        }
      ]
    },
    {
      "cell_type": "code",
      "metadata": {
        "id": "LLBEELHYaW9X",
        "colab_type": "code",
        "colab": {
          "base_uri": "https://localhost:8080/",
          "height": 281
        },
        "outputId": "cbe12341-7425-44d2-e4a8-5dbb6fb87064"
      },
      "source": [
        "plt.plot(train_losses_d, label='training loss')\n",
        "plt.plot(test_losses_d, label='validation loss')\n",
        "plt.title('Loss at the end of each epoch in model with dropout')\n",
        "plt.legend();"
      ],
      "execution_count": 22,
      "outputs": [
        {
          "output_type": "display_data",
          "data": {
            "image/png": "[encoded data removed]",
            "text/plain": [
              "<Figure size 432x288 with 1 Axes>"
            ]
          },
          "metadata": {
            "tags": []
          }
        }
      ]
    },
    {
      "cell_type": "code",
      "metadata": {
        "id": "uniJwVLyzoW0",
        "colab_type": "code",
        "colab": {
          "base_uri": "https://localhost:8080/",
          "height": 67
        },
        "outputId": "264c1202-fbf0-453b-c39f-51f7d864ebab"
      },
      "source": [
        "# Test Accuracy\n",
        "print(test_correct) # contains the results of all 10 epochs\n",
        "print()\n",
        "print(f'Test accuracy: {test_correct[-1].item()*100/10000:.3f}%') # print the most recent result as a percent"
      ],
      "execution_count": 23,
      "outputs": [
        {
          "output_type": "stream",
          "text": [
            "[tensor(3595), tensor(6882), tensor(8273), tensor(8732), tensor(8883), tensor(8983), tensor(9030), tensor(9143), tensor(9185), tensor(9236)]\n",
            "\n",
            "Test accuracy: 92.360%\n"
          ],
          "name": "stdout"
        }
      ]
    },
    {
      "cell_type": "code",
      "metadata": {
        "id": "gKYNGuZ4kyN1",
        "colab_type": "code",
        "colab": {
          "base_uri": "https://localhost:8080/",
          "height": 34
        },
        "outputId": "2dcf1134-625a-4f35-d5e5-d2ed846ab130"
      },
      "source": [
        "# However, we'd like to compare the predicted values to the ground truth (the y_test labels), so we'll run the test set through the trained model all at once.\n",
        "\n",
        "# Extract the data all at once, not in batches\n",
        "test_load_all = torch.utils.data.DataLoader(testset, batch_size=10000, shuffle=False)\n",
        "\n",
        "with torch.no_grad():\n",
        "    correct = 0\n",
        "    for X_test, y_test in test_load_all:\n",
        "        y_val = model_2layer(X_test.view(len(X_test), -1))  # pass in a flattened view of X_test\n",
        "        predicted = torch.max(y_val,1)[1]\n",
        "        correct += (predicted == y_test).sum()\n",
        "print(f'Test accuracy: {correct.item()}/{len(testset)} = {correct.item()*100/(len(testset)):7.3f}%')"
      ],
      "execution_count": 24,
      "outputs": [
        {
          "output_type": "stream",
          "text": [
            "Test accuracy: 9236/10000 =  92.360%\n"
          ],
          "name": "stdout"
        }
      ]
    },
    {
      "cell_type": "code",
      "metadata": {
        "id": "1B4rJ_lboD7m",
        "colab_type": "code",
        "colab": {
          "base_uri": "https://localhost:8080/",
          "height": 67
        },
        "outputId": "3364f6bd-edca-473d-cbcf-65ccc2188ab7"
      },
      "source": [
        "# Test Accuracy\n",
        "print(test_correct_d) # contains the results of all 10 epochs\n",
        "print()\n",
        "print(f'Test accuracy: {test_correct_d[-1].item()*100/10000:.3f}%') # print the most recent result as a percent"
      ],
      "execution_count": 25,
      "outputs": [
        {
          "output_type": "stream",
          "text": [
            "[tensor(2707), tensor(4809), tensor(6911), tensor(7942), tensor(8370), tensor(8603), tensor(8733), tensor(8833), tensor(8923), tensor(8970)]\n",
            "\n",
            "Test accuracy: 89.700%\n"
          ],
          "name": "stdout"
        }
      ]
    },
    {
      "cell_type": "code",
      "metadata": {
        "id": "1RrZ--E9b1I7",
        "colab_type": "code",
        "colab": {
          "base_uri": "https://localhost:8080/",
          "height": 34
        },
        "outputId": "6e3beeb1-96ec-4061-8031-66a30d7c951a"
      },
      "source": [
        "# However, we'd like to compare the predicted values to the ground truth (the y_test labels), so we'll run the test set through the trained model all at once.\n",
        "\n",
        "# Extract the data all at once, not in batches\n",
        "test_load_all = torch.utils.data.DataLoader(testset, batch_size=10000, shuffle=False)\n",
        "\n",
        "with torch.no_grad():\n",
        "    correct = 0\n",
        "    for X_test, y_test in test_load_all:\n",
        "        y_val = model_drop_2layer(X_test.view(len(X_test), -1))  # pass in a flattened view of X_test\n",
        "        predicted = torch.max(y_val,1)[1]\n",
        "        correct += (predicted == y_test).sum()\n",
        "print(f'Test accuracy: {correct.item()}/{len(testset)} = {correct.item()*100/(len(testset)):7.3f}%')"
      ],
      "execution_count": 26,
      "outputs": [
        {
          "output_type": "stream",
          "text": [
            "Test accuracy: 8974/10000 =  89.740%\n"
          ],
          "name": "stdout"
        }
      ]
    },
    {
      "cell_type": "markdown",
      "metadata": {
        "id": "Qh8Gkm5Ltxik",
        "colab_type": "text"
      },
      "source": [
        "## 1Layer Network with Sigmoid Activation"
      ]
    },
    {
      "cell_type": "code",
      "metadata": {
        "id": "6UqknCyHuCnj",
        "colab_type": "code",
        "colab": {
          "base_uri": "https://localhost:8080/",
          "height": 319
        },
        "outputId": "674bd788-4841-405f-a21d-83112274ec93"
      },
      "source": [
        "# Without Dropout\n",
        "\n",
        "torch.manual_seed(101)\n",
        "model_1layer_s=nn.Sequential(\n",
        "    nn.Linear(784,256),\n",
        "    nn.Sigmoid(),\n",
        "    nn.Linear(256,64),\n",
        "    nn.Sigmoid(),\n",
        "    nn.Linear(64,10),\n",
        "    nn.LogSoftmax(dim=1)\n",
        ")\n",
        "# Define loss function & optimizer\n",
        "criterion = nn.CrossEntropyLoss()\n",
        "optimizer_1layer_s=optim.SGD(model_1layer_s.parameters(), lr=0.01)\n",
        "\n",
        "print(\"Model without dropout:\",model_1layer_s)\n",
        "\n",
        "# With Dropout\n",
        "\n",
        "model_drop_1layer_s= nn.Sequential(\n",
        "    nn.Linear(784,256),\n",
        "    torch.nn.Dropout(0.2),\n",
        "    nn.Sigmoid(),\n",
        "    nn.Linear(256,64),\n",
        "    torch.nn.Dropout(0.2),\n",
        "    nn.Sigmoid(),\n",
        "    nn.Linear(64,10),\n",
        "    nn.LogSoftmax(dim=1)\n",
        ")\n",
        "optimizer_drop_1layer_s=optim.SGD(model_drop_1layer_s.parameters(), lr=0.01)\n",
        "print(\"Model with dropout:\",model_drop_1layer_s)"
      ],
      "execution_count": 27,
      "outputs": [
        {
          "output_type": "stream",
          "text": [
            "Model without dropout: Sequential(\n",
            "  (0): Linear(in_features=784, out_features=256, bias=True)\n",
            "  (1): Sigmoid()\n",
            "  (2): Linear(in_features=256, out_features=64, bias=True)\n",
            "  (3): Sigmoid()\n",
            "  (4): Linear(in_features=64, out_features=10, bias=True)\n",
            "  (5): LogSoftmax()\n",
            ")\n",
            "Model with dropout: Sequential(\n",
            "  (0): Linear(in_features=784, out_features=256, bias=True)\n",
            "  (1): Dropout(p=0.2, inplace=False)\n",
            "  (2): Sigmoid()\n",
            "  (3): Linear(in_features=256, out_features=64, bias=True)\n",
            "  (4): Dropout(p=0.2, inplace=False)\n",
            "  (5): Sigmoid()\n",
            "  (6): Linear(in_features=64, out_features=10, bias=True)\n",
            "  (7): LogSoftmax()\n",
            ")\n"
          ],
          "name": "stdout"
        }
      ]
    },
    {
      "cell_type": "code",
      "metadata": {
        "id": "HLbZs0jUxDsL",
        "colab_type": "code",
        "colab": {
          "base_uri": "https://localhost:8080/",
          "height": 554
        },
        "outputId": "b4f1bda1-29d3-48b6-e5fa-1e9a3f728a9f"
      },
      "source": [
        "start_time = time.time()\n",
        "\n",
        "epochs = 10\n",
        "# Without dropout\n",
        "train_losses,test_losses=[],[]\n",
        "train_correct,test_correct = [],[]\n",
        "acc =[]\n",
        "\n",
        "for i in range(epochs):\n",
        "    train = 0\n",
        "    test = 0\n",
        "    runningloss = 0\n",
        "\n",
        "    # Run the training batches on model without dropout\n",
        "    for b, (X_train, y_train) in enumerate(trainloader):\n",
        "        b+=1\n",
        "        \n",
        "        # Apply the model\n",
        "        y_pred = model_1layer_s(X_train.view(100, -1))  # Here we flatten X_train\n",
        "        loss = criterion(y_pred, y_train)\n",
        " \n",
        "        # Tally the number of correct predictions\n",
        "        predicted = torch.max(y_pred.data, 1)[1]\n",
        "        batch_corr = (predicted == y_train).sum()\n",
        "        train += batch_corr\n",
        "        \n",
        "        # Update parameters\n",
        "        optimizer_1layer_s.zero_grad()\n",
        "        loss.backward()\n",
        "        optimizer_1layer_s.step()\n",
        "        \n",
        "        # Print interim results\n",
        "        if b%200 == 0:\n",
        "            print(f'epoch: {i:2}  batch: {b:4} [{100*b:6}/60000]  loss: {loss.item():10.8f}  accuracy: {train.item()*100/(100*b):7.3f}%')\n",
        "    \n",
        "    # Update train loss & accuracy for the epoch\n",
        "    train_losses.append(loss)\n",
        "    train_correct.append(train)\n",
        "        \n",
        "    # Run the testing batches\n",
        "    with torch.no_grad():\n",
        "        for b, (X_test, y_test) in enumerate(testloader):\n",
        "\n",
        "            # Apply the model\n",
        "            y_val = model_1layer_s(X_test.view(len(X_test), -1))  # Here we flatten X_test\n",
        "\n",
        "            # Tally the number of correct predictions\n",
        "            predicted = torch.max(y_val.data, 1)[1] \n",
        "            test += (predicted == y_test).sum()\n",
        "    \n",
        "    # Update test loss & accuracy for the epoch\n",
        "    loss = criterion(y_val, y_test)\n",
        "    test_losses.append(loss)\n",
        "    test_correct.append(test)\n",
        "\n",
        "    \n",
        "print(f'\\nDuration: {time.time() - start_time:.0f} seconds') # print the time elapsed"
      ],
      "execution_count": 28,
      "outputs": [
        {
          "output_type": "stream",
          "text": [
            "epoch:  0  batch:  200 [ 20000/60000]  loss: 2.30406404  accuracy:  10.905%\n",
            "epoch:  0  batch:  400 [ 40000/60000]  loss: 2.30169559  accuracy:  11.170%\n",
            "epoch:  0  batch:  600 [ 60000/60000]  loss: 2.29780436  accuracy:  11.143%\n",
            "epoch:  1  batch:  200 [ 20000/60000]  loss: 2.29471111  accuracy:  11.375%\n",
            "epoch:  1  batch:  400 [ 40000/60000]  loss: 2.28774357  accuracy:  11.502%\n",
            "epoch:  1  batch:  600 [ 60000/60000]  loss: 2.29218006  accuracy:  11.477%\n",
            "epoch:  2  batch:  200 [ 20000/60000]  loss: 2.29536128  accuracy:  11.215%\n",
            "epoch:  2  batch:  400 [ 40000/60000]  loss: 2.29415154  accuracy:  11.543%\n",
            "epoch:  2  batch:  600 [ 60000/60000]  loss: 2.29764414  accuracy:  11.515%\n",
            "epoch:  3  batch:  200 [ 20000/60000]  loss: 2.29130149  accuracy:  12.080%\n",
            "epoch:  3  batch:  400 [ 40000/60000]  loss: 2.27751446  accuracy:  11.797%\n",
            "epoch:  3  batch:  600 [ 60000/60000]  loss: 2.29222083  accuracy:  11.753%\n",
            "epoch:  4  batch:  200 [ 20000/60000]  loss: 2.27904034  accuracy:  13.495%\n",
            "epoch:  4  batch:  400 [ 40000/60000]  loss: 2.28425288  accuracy:  13.145%\n",
            "epoch:  4  batch:  600 [ 60000/60000]  loss: 2.27424479  accuracy:  14.565%\n",
            "epoch:  5  batch:  200 [ 20000/60000]  loss: 2.26186991  accuracy:  14.685%\n",
            "epoch:  5  batch:  400 [ 40000/60000]  loss: 2.27740884  accuracy:  18.172%\n",
            "epoch:  5  batch:  600 [ 60000/60000]  loss: 2.27308249  accuracy:  18.777%\n",
            "epoch:  6  batch:  200 [ 20000/60000]  loss: 2.24943042  accuracy:  29.705%\n",
            "epoch:  6  batch:  400 [ 40000/60000]  loss: 2.24586511  accuracy:  25.370%\n",
            "epoch:  6  batch:  600 [ 60000/60000]  loss: 2.24401498  accuracy:  26.610%\n",
            "epoch:  7  batch:  200 [ 20000/60000]  loss: 2.23272562  accuracy:  32.590%\n",
            "epoch:  7  batch:  400 [ 40000/60000]  loss: 2.22085357  accuracy:  31.405%\n",
            "epoch:  7  batch:  600 [ 60000/60000]  loss: 2.19839096  accuracy:  32.607%\n",
            "epoch:  8  batch:  200 [ 20000/60000]  loss: 2.18958569  accuracy:  34.845%\n",
            "epoch:  8  batch:  400 [ 40000/60000]  loss: 2.16874385  accuracy:  37.135%\n",
            "epoch:  8  batch:  600 [ 60000/60000]  loss: 2.15249038  accuracy:  37.770%\n",
            "epoch:  9  batch:  200 [ 20000/60000]  loss: 2.10275745  accuracy:  42.450%\n",
            "epoch:  9  batch:  400 [ 40000/60000]  loss: 2.07656574  accuracy:  41.670%\n",
            "epoch:  9  batch:  600 [ 60000/60000]  loss: 2.05277944  accuracy:  41.368%\n",
            "\n",
            "Duration: 58 seconds\n"
          ],
          "name": "stdout"
        }
      ]
    },
    {
      "cell_type": "code",
      "metadata": {
        "id": "j8YziI9TxzrZ",
        "colab_type": "code",
        "colab": {
          "base_uri": "https://localhost:8080/",
          "height": 571
        },
        "outputId": "cdb28239-3acf-4aac-fa56-e407585a8851"
      },
      "source": [
        "#With dropout\n",
        "start_time = time.time()\n",
        "print(\" Repeating the above steps on model with dropout 0.2\")\n",
        "epochs = 10\n",
        "train_losses_d,test_losses_d=[],[]\n",
        "train_correct_d,test_correct_d = [],[]\n",
        "acc_d =[]\n",
        "for i in range(epochs):\n",
        "    train_d = 0\n",
        "    test_d = 0\n",
        "    runningloss_d = 0\n",
        "    \n",
        "    \n",
        "    # Run the training batches on model with dropout\n",
        "    for b, (X_train, y_train) in enumerate(trainloader):\n",
        "        b+=1\n",
        "        \n",
        "        # Apply the model\n",
        "        y_pred_d = model_drop_1layer_s(X_train.view(100, -1))  # Here we flatten X_train\n",
        "        loss_d = criterion(y_pred_d, y_train)\n",
        " \n",
        "        # Tally the number of correct predictions\n",
        "        predicted_d = torch.max(y_pred_d.data, 1)[1]\n",
        "        batch_corr_d = (predicted_d == y_train).sum()\n",
        "        train_d += batch_corr_d\n",
        "        \n",
        "        # Update parameters\n",
        "        optimizer_drop_1layer_s.zero_grad()\n",
        "        loss_d.backward()\n",
        "        optimizer_drop_1layer_s.step()\n",
        "        \n",
        "        # Print interim results\n",
        "        if b%200 == 0:\n",
        "            print(f'epoch: {i:2}  batch: {b:4} [{100*b:6}/60000]  loss: {loss_d.item():10.8f}  accuracy: {train_d.item()*100/(100*b):7.3f}%')\n",
        "    \n",
        "    # Update train loss & accuracy for the epoch\n",
        "    train_losses_d.append(loss_d)\n",
        "    train_correct_d.append(train_d)\n",
        "        \n",
        "    # Run the testing batches\n",
        "    with torch.no_grad():\n",
        "        for b, (X_test, y_test) in enumerate(testloader):\n",
        "\n",
        "            # Apply the model\n",
        "            y_val = model_drop_1layer_s(X_test.view(len(X_test), -1))  # Here we flatten X_test\n",
        "\n",
        "            # Tally the number of correct predictions\n",
        "            predicted_d = torch.max(y_val.data, 1)[1] \n",
        "            test_d += (predicted_d == y_test).sum()\n",
        "    \n",
        "    # Update test loss & accuracy for the epoch\n",
        "    loss_d = criterion(y_val, y_test)\n",
        "    test_losses_d.append(loss_d)\n",
        "    test_correct_d.append(test_d)\n",
        "        \n",
        "print(f'\\nDuration: {time.time() - start_time:.0f} seconds') # print the time elapsed"
      ],
      "execution_count": 29,
      "outputs": [
        {
          "output_type": "stream",
          "text": [
            " Repeating the above steps on model with dropout 0.2\n",
            "epoch:  0  batch:  200 [ 20000/60000]  loss: 2.29103088  accuracy:  10.485%\n",
            "epoch:  0  batch:  400 [ 40000/60000]  loss: 2.28614831  accuracy:  10.810%\n",
            "epoch:  0  batch:  600 [ 60000/60000]  loss: 2.29402447  accuracy:  11.018%\n",
            "epoch:  1  batch:  200 [ 20000/60000]  loss: 2.29187179  accuracy:  11.610%\n",
            "epoch:  1  batch:  400 [ 40000/60000]  loss: 2.30405378  accuracy:  11.607%\n",
            "epoch:  1  batch:  600 [ 60000/60000]  loss: 2.29757118  accuracy:  11.552%\n",
            "epoch:  2  batch:  200 [ 20000/60000]  loss: 2.29114890  accuracy:  11.845%\n",
            "epoch:  2  batch:  400 [ 40000/60000]  loss: 2.28679776  accuracy:  11.690%\n",
            "epoch:  2  batch:  600 [ 60000/60000]  loss: 2.28200126  accuracy:  12.407%\n",
            "epoch:  3  batch:  200 [ 20000/60000]  loss: 2.28342462  accuracy:  14.700%\n",
            "epoch:  3  batch:  400 [ 40000/60000]  loss: 2.28801441  accuracy:  13.540%\n",
            "epoch:  3  batch:  600 [ 60000/60000]  loss: 2.28321576  accuracy:  13.068%\n",
            "epoch:  4  batch:  200 [ 20000/60000]  loss: 2.28741264  accuracy:  12.190%\n",
            "epoch:  4  batch:  400 [ 40000/60000]  loss: 2.27336597  accuracy:  12.390%\n",
            "epoch:  4  batch:  600 [ 60000/60000]  loss: 2.28717899  accuracy:  13.577%\n",
            "epoch:  5  batch:  200 [ 20000/60000]  loss: 2.28162098  accuracy:  18.990%\n",
            "epoch:  5  batch:  400 [ 40000/60000]  loss: 2.25639343  accuracy:  19.372%\n",
            "epoch:  5  batch:  600 [ 60000/60000]  loss: 2.25986934  accuracy:  17.913%\n",
            "epoch:  6  batch:  200 [ 20000/60000]  loss: 2.25476956  accuracy:  19.375%\n",
            "epoch:  6  batch:  400 [ 40000/60000]  loss: 2.25567484  accuracy:  21.767%\n",
            "epoch:  6  batch:  600 [ 60000/60000]  loss: 2.24816298  accuracy:  23.680%\n",
            "epoch:  7  batch:  200 [ 20000/60000]  loss: 2.23247528  accuracy:  29.820%\n",
            "epoch:  7  batch:  400 [ 40000/60000]  loss: 2.23766685  accuracy:  30.907%\n",
            "epoch:  7  batch:  600 [ 60000/60000]  loss: 2.22292042  accuracy:  31.938%\n",
            "epoch:  8  batch:  200 [ 20000/60000]  loss: 2.18729305  accuracy:  39.765%\n",
            "epoch:  8  batch:  400 [ 40000/60000]  loss: 2.17818594  accuracy:  40.780%\n",
            "epoch:  8  batch:  600 [ 60000/60000]  loss: 2.20631266  accuracy:  40.472%\n",
            "epoch:  9  batch:  200 [ 20000/60000]  loss: 2.15925884  accuracy:  40.310%\n",
            "epoch:  9  batch:  400 [ 40000/60000]  loss: 2.13847709  accuracy:  42.540%\n",
            "epoch:  9  batch:  600 [ 60000/60000]  loss: 2.03530431  accuracy:  43.638%\n",
            "\n",
            "Duration: 59 seconds\n"
          ],
          "name": "stdout"
        }
      ]
    },
    {
      "cell_type": "code",
      "metadata": {
        "colab_type": "code",
        "outputId": "ca1b917a-e784-44d5-8d5c-7a1cfd0369de",
        "id": "43vmBXStygbQ",
        "colab": {
          "base_uri": "https://localhost:8080/",
          "height": 281
        }
      },
      "source": [
        "plt.plot(train_losses, label='training loss')\n",
        "plt.plot(test_losses, label='validation loss')\n",
        "plt.title('Loss at the end of each epoch in model without dropout')\n",
        "plt.legend();"
      ],
      "execution_count": 30,
      "outputs": [
        {
          "output_type": "display_data",
          "data": {
            "image/png": "[encoded data removed]",
            "text/plain": [
              "<Figure size 432x288 with 1 Axes>"
            ]
          },
          "metadata": {
            "tags": []
          }
        }
      ]
    },
    {
      "cell_type": "code",
      "metadata": {
        "colab_type": "code",
        "outputId": "4fc2dd74-4c96-4fdd-c78b-e86260e407b0",
        "id": "tT4q-39oygbl",
        "colab": {
          "base_uri": "https://localhost:8080/",
          "height": 281
        }
      },
      "source": [
        "plt.plot(train_losses_d, label='training loss')\n",
        "plt.plot(test_losses_d, label='validation loss')\n",
        "plt.title('Loss at the end of each epoch in model with dropout')\n",
        "plt.legend();"
      ],
      "execution_count": 31,
      "outputs": [
        {
          "output_type": "display_data",
          "data": {
            "image/png": "[encoded data removed]",
            "text/plain": [
              "<Figure size 432x288 with 1 Axes>"
            ]
          },
          "metadata": {
            "tags": []
          }
        }
      ]
    },
    {
      "cell_type": "code",
      "metadata": {
        "colab_type": "code",
        "outputId": "8010300e-07ef-4c86-a31b-495d68932f76",
        "id": "1QZPLP1Iygbp",
        "colab": {
          "base_uri": "https://localhost:8080/",
          "height": 67
        }
      },
      "source": [
        "# Test Accuracy\n",
        "print(test_correct) # contains the results of all 10 epochs\n",
        "print()\n",
        "print(f'Test accuracy: {test_correct[-1].item()*100/10000:.3f}%') # print the most recent result as a percent"
      ],
      "execution_count": 32,
      "outputs": [
        {
          "output_type": "stream",
          "text": [
            "[tensor(1135), tensor(1135), tensor(1135), tensor(1191), tensor(1178), tensor(3317), tensor(2449), tensor(3187), tensor(4493), tensor(4315)]\n",
            "\n",
            "Test accuracy: 43.150%\n"
          ],
          "name": "stdout"
        }
      ]
    },
    {
      "cell_type": "code",
      "metadata": {
        "colab_type": "code",
        "outputId": "c784ddd9-02e2-49b3-c053-876978ea097c",
        "id": "OKqUK_8Hygbw",
        "colab": {
          "base_uri": "https://localhost:8080/",
          "height": 34
        }
      },
      "source": [
        "# However, we'd like to compare the predicted values to the ground truth (the y_test labels), so we'll run the test set through the trained model all at once.\n",
        "\n",
        "# Extract the data all at once, not in batches\n",
        "test_load_all = torch.utils.data.DataLoader(testset, batch_size=10000, shuffle=False)\n",
        "\n",
        "with torch.no_grad():\n",
        "    correct = 0\n",
        "    for X_test, y_test in test_load_all:\n",
        "        y_val = model_1layer_s(X_test.view(len(X_test), -1))  # pass in a flattened view of X_test\n",
        "        predicted = torch.max(y_val,1)[1]\n",
        "        correct += (predicted == y_test).sum()\n",
        "print(f'Test accuracy: {correct.item()}/{len(testset)} = {correct.item()*100/(len(testset)):7.3f}%')"
      ],
      "execution_count": 33,
      "outputs": [
        {
          "output_type": "stream",
          "text": [
            "Test accuracy: 4315/10000 =  43.150%\n"
          ],
          "name": "stdout"
        }
      ]
    },
    {
      "cell_type": "code",
      "metadata": {
        "colab_type": "code",
        "outputId": "a083e3ef-532c-44e9-d6fe-c644d57e33d5",
        "id": "v_zMfsdyygb1",
        "colab": {
          "base_uri": "https://localhost:8080/",
          "height": 67
        }
      },
      "source": [
        "# Test Accuracy\n",
        "print(test_correct_d) # contains the results of all 10 epochs\n",
        "print()\n",
        "print(f'Test accuracy: {test_correct_d[-1].item()*100/10000:.3f}%') # print the most recent result as a percent"
      ],
      "execution_count": 34,
      "outputs": [
        {
          "output_type": "stream",
          "text": [
            "[tensor(1135), tensor(1527), tensor(1462), tensor(1140), tensor(2221), tensor(2075), tensor(2704), tensor(4010), tensor(3849), tensor(4537)]\n",
            "\n",
            "Test accuracy: 45.370%\n"
          ],
          "name": "stdout"
        }
      ]
    },
    {
      "cell_type": "code",
      "metadata": {
        "colab_type": "code",
        "outputId": "9e65a5b8-bb6f-4324-e37b-cd2d187ecef5",
        "id": "RaKEk7cUygb6",
        "colab": {
          "base_uri": "https://localhost:8080/",
          "height": 34
        }
      },
      "source": [
        "# However, we'd like to compare the predicted values to the ground truth (the y_test labels), so we'll run the test set through the trained model all at once.\n",
        "\n",
        "# Extract the data all at once, not in batches\n",
        "test_load_all = torch.utils.data.DataLoader(testset, batch_size=10000, shuffle=False)\n",
        "\n",
        "with torch.no_grad():\n",
        "    correct = 0\n",
        "    for X_test, y_test in test_load_all:\n",
        "        y_val = model_drop_1layer_s(X_test.view(len(X_test), -1))  # pass in a flattened view of X_test\n",
        "        predicted = torch.max(y_val,1)[1]\n",
        "        correct += (predicted == y_test).sum()\n",
        "print(f'Test accuracy: {correct.item()}/{len(testset)} = {correct.item()*100/(len(testset)):7.3f}%')"
      ],
      "execution_count": 35,
      "outputs": [
        {
          "output_type": "stream",
          "text": [
            "Test accuracy: 4529/10000 =  45.290%\n"
          ],
          "name": "stdout"
        }
      ]
    },
    {
      "cell_type": "markdown",
      "metadata": {
        "id": "I0voNKDKzM54",
        "colab_type": "text"
      },
      "source": [
        "## 2Layer Network with Sigmoid Activation"
      ]
    },
    {
      "cell_type": "code",
      "metadata": {
        "colab_type": "code",
        "outputId": "6dfed536-883e-4310-ab24-cf746bed4e11",
        "id": "0SEcpbtazKvY",
        "colab": {
          "base_uri": "https://localhost:8080/",
          "height": 403
        }
      },
      "source": [
        "# Without Dropout\n",
        "\n",
        "torch.manual_seed(101)\n",
        "model_2layer_s=nn.Sequential(\n",
        "    nn.Linear(784,256),\n",
        "    nn.Sigmoid(),\n",
        "    nn.Linear(256,128),\n",
        "    nn.Sigmoid(),\n",
        "    nn.Linear(128,64),\n",
        "    nn.Sigmoid(),\n",
        "    nn.Linear(64,10),\n",
        "    nn.LogSoftmax(dim=1)\n",
        ")\n",
        "# Define loss function & optimizer\n",
        "criterion = nn.CrossEntropyLoss()\n",
        "optimizer_s=optim.SGD(model_2layer_s.parameters(), lr=0.01,momentum=0.9)\n",
        "\n",
        "print(\"Model without dropout:\",model_2layer_s)\n",
        "\n",
        "# With Dropout\n",
        "\n",
        "model_drop_2layer_s= nn.Sequential(\n",
        "    nn.Linear(784,256),\n",
        "    torch.nn.Dropout(0.2),\n",
        "    nn.Sigmoid(),\n",
        "    nn.Linear(256,128),\n",
        "    torch.nn.Dropout(0.2),\n",
        "    nn.Sigmoid(),\n",
        "    nn.Linear(128,64),\n",
        "    torch.nn.Dropout(0.2),\n",
        "    nn.Sigmoid(),\n",
        "    nn.Linear(64,10),\n",
        "    nn.LogSoftmax(dim=1)\n",
        ")\n",
        "optimizer_drop_s=optim.SGD(model_drop_2layer_s.parameters(), lr=0.01,momentum=0.9)\n",
        "print(\"Model with dropout:\",model_drop_2layer_s)"
      ],
      "execution_count": 36,
      "outputs": [
        {
          "output_type": "stream",
          "text": [
            "Model without dropout: Sequential(\n",
            "  (0): Linear(in_features=784, out_features=256, bias=True)\n",
            "  (1): Sigmoid()\n",
            "  (2): Linear(in_features=256, out_features=128, bias=True)\n",
            "  (3): Sigmoid()\n",
            "  (4): Linear(in_features=128, out_features=64, bias=True)\n",
            "  (5): Sigmoid()\n",
            "  (6): Linear(in_features=64, out_features=10, bias=True)\n",
            "  (7): LogSoftmax()\n",
            ")\n",
            "Model with dropout: Sequential(\n",
            "  (0): Linear(in_features=784, out_features=256, bias=True)\n",
            "  (1): Dropout(p=0.2, inplace=False)\n",
            "  (2): Sigmoid()\n",
            "  (3): Linear(in_features=256, out_features=128, bias=True)\n",
            "  (4): Dropout(p=0.2, inplace=False)\n",
            "  (5): Sigmoid()\n",
            "  (6): Linear(in_features=128, out_features=64, bias=True)\n",
            "  (7): Dropout(p=0.2, inplace=False)\n",
            "  (8): Sigmoid()\n",
            "  (9): Linear(in_features=64, out_features=10, bias=True)\n",
            "  (10): LogSoftmax()\n",
            ")\n"
          ],
          "name": "stdout"
        }
      ]
    },
    {
      "cell_type": "code",
      "metadata": {
        "colab_type": "code",
        "outputId": "b29b3dee-d585-4ecf-d16d-83bd17c39e84",
        "id": "nJRW67NrzKv0",
        "colab": {
          "base_uri": "https://localhost:8080/",
          "height": 185
        }
      },
      "source": [
        "count_parameters(model_2layer_s)"
      ],
      "execution_count": 37,
      "outputs": [
        {
          "output_type": "stream",
          "text": [
            "200704\n",
            "   256\n",
            " 32768\n",
            "   128\n",
            "  8192\n",
            "    64\n",
            "   640\n",
            "    10\n",
            "______\n",
            "242762\n"
          ],
          "name": "stdout"
        }
      ]
    },
    {
      "cell_type": "code",
      "metadata": {
        "colab_type": "code",
        "outputId": "64100ebd-ab88-480d-c889-6cf57eb9690f",
        "id": "pXasT_8PzKv5",
        "colab": {
          "base_uri": "https://localhost:8080/",
          "height": 34
        }
      },
      "source": [
        "# Flattening the train data\n",
        "dataiter = iter(trainloader)\n",
        "images, labels = dataiter.next()\n",
        "print('Batch shape:', images.size())"
      ],
      "execution_count": 38,
      "outputs": [
        {
          "output_type": "stream",
          "text": [
            "Batch shape: torch.Size([100, 1, 28, 28])\n"
          ],
          "name": "stdout"
        }
      ]
    },
    {
      "cell_type": "code",
      "metadata": {
        "colab_type": "code",
        "outputId": "fde770eb-7e8d-4cd5-ea60-3d390b690c81",
        "id": "WHBIjVAkzKwA",
        "colab": {
          "base_uri": "https://localhost:8080/",
          "height": 34
        }
      },
      "source": [
        "images.view(100,-1).size()"
      ],
      "execution_count": 39,
      "outputs": [
        {
          "output_type": "execute_result",
          "data": {
            "text/plain": [
              "torch.Size([100, 784])"
            ]
          },
          "metadata": {
            "tags": []
          },
          "execution_count": 39
        }
      ]
    },
    {
      "cell_type": "code",
      "metadata": {
        "colab_type": "code",
        "outputId": "48b39619-e5ab-4cf0-c5cb-09b681e6315d",
        "id": "xLoL8vLdzKwD",
        "colab": {
          "base_uri": "https://localhost:8080/",
          "height": 554
        }
      },
      "source": [
        "start_time = time.time()\n",
        "\n",
        "epochs = 10\n",
        "# Without dropout\n",
        "train_losses,test_losses=[],[]\n",
        "train_correct,test_correct = [],[]\n",
        "acc =[]\n",
        "\n",
        "for i in range(epochs):\n",
        "    train = 0\n",
        "    test = 0\n",
        "    runningloss = 0\n",
        "\n",
        "    # Run the training batches on model without dropout\n",
        "    for b, (X_train, y_train) in enumerate(trainloader):\n",
        "        b+=1\n",
        "        \n",
        "        # Apply the model\n",
        "        y_pred = model_2layer_s(X_train.view(100, -1))  # Here we flatten X_train\n",
        "        loss = criterion(y_pred, y_train)\n",
        " \n",
        "        # Tally the number of correct predictions\n",
        "        predicted = torch.max(y_pred.data, 1)[1]\n",
        "        batch_corr = (predicted == y_train).sum()\n",
        "        train += batch_corr\n",
        "        \n",
        "        # Update parameters\n",
        "        optimizer_s.zero_grad()\n",
        "        loss.backward()\n",
        "        optimizer_s.step()\n",
        "        \n",
        "        # Print interim results\n",
        "        if b%200 == 0:\n",
        "            print(f'epoch: {i:2}  batch: {b:4} [{100*b:6}/60000]  loss: {loss.item():10.8f}  accuracy: {train.item()*100/(100*b):7.3f}%')\n",
        "    \n",
        "    # Update train loss & accuracy for the epoch\n",
        "    train_losses.append(loss)\n",
        "    train_correct.append(train)\n",
        "        \n",
        "    # Run the testing batches\n",
        "    with torch.no_grad():\n",
        "        for b, (X_test, y_test) in enumerate(testloader):\n",
        "\n",
        "            # Apply the model\n",
        "            y_val = model_2layer_s(X_test.view(len(X_test), -1))  # Here we flatten X_test\n",
        "\n",
        "            # Tally the number of correct predictions\n",
        "            predicted = torch.max(y_val.data, 1)[1] \n",
        "            test += (predicted == y_test).sum()\n",
        "    \n",
        "    # Update test loss & accuracy for the epoch\n",
        "    loss = criterion(y_val, y_test)\n",
        "    test_losses.append(loss)\n",
        "    test_correct.append(test)\n",
        "\n",
        "    \n",
        "print(f'\\nDuration: {time.time() - start_time:.0f} seconds') # print the time elapsed"
      ],
      "execution_count": 40,
      "outputs": [
        {
          "output_type": "stream",
          "text": [
            "epoch:  0  batch:  200 [ 20000/60000]  loss: 2.30333638  accuracy:  10.770%\n",
            "epoch:  0  batch:  400 [ 40000/60000]  loss: 2.28122473  accuracy:  10.523%\n",
            "epoch:  0  batch:  600 [ 60000/60000]  loss: 2.30927968  accuracy:  10.423%\n",
            "epoch:  1  batch:  200 [ 20000/60000]  loss: 2.30342126  accuracy:  10.400%\n",
            "epoch:  1  batch:  400 [ 40000/60000]  loss: 2.29832387  accuracy:  10.887%\n",
            "epoch:  1  batch:  600 [ 60000/60000]  loss: 2.30488229  accuracy:  10.950%\n",
            "epoch:  2  batch:  200 [ 20000/60000]  loss: 2.29640055  accuracy:  10.925%\n",
            "epoch:  2  batch:  400 [ 40000/60000]  loss: 2.29842687  accuracy:  10.912%\n",
            "epoch:  2  batch:  600 [ 60000/60000]  loss: 2.28810811  accuracy:  11.340%\n",
            "epoch:  3  batch:  200 [ 20000/60000]  loss: 2.29111099  accuracy:  11.845%\n",
            "epoch:  3  batch:  400 [ 40000/60000]  loss: 2.29971552  accuracy:  12.357%\n",
            "epoch:  3  batch:  600 [ 60000/60000]  loss: 2.28768682  accuracy:  12.572%\n",
            "epoch:  4  batch:  200 [ 20000/60000]  loss: 2.28871226  accuracy:  15.685%\n",
            "epoch:  4  batch:  400 [ 40000/60000]  loss: 2.23054409  accuracy:  18.483%\n",
            "epoch:  4  batch:  600 [ 60000/60000]  loss: 2.03340244  accuracy:  20.882%\n",
            "epoch:  5  batch:  200 [ 20000/60000]  loss: 1.77995229  accuracy:  29.245%\n",
            "epoch:  5  batch:  400 [ 40000/60000]  loss: 1.76315081  accuracy:  32.380%\n",
            "epoch:  5  batch:  600 [ 60000/60000]  loss: 1.47600889  accuracy:  35.663%\n",
            "epoch:  6  batch:  200 [ 20000/60000]  loss: 1.24153566  accuracy:  49.655%\n",
            "epoch:  6  batch:  400 [ 40000/60000]  loss: 1.03081310  accuracy:  51.540%\n",
            "epoch:  6  batch:  600 [ 60000/60000]  loss: 1.42359531  accuracy:  54.137%\n",
            "epoch:  7  batch:  200 [ 20000/60000]  loss: 1.08285105  accuracy:  64.240%\n",
            "epoch:  7  batch:  400 [ 40000/60000]  loss: 1.13642418  accuracy:  66.395%\n",
            "epoch:  7  batch:  600 [ 60000/60000]  loss: 0.81208265  accuracy:  68.633%\n",
            "epoch:  8  batch:  200 [ 20000/60000]  loss: 0.68593007  accuracy:  76.395%\n",
            "epoch:  8  batch:  400 [ 40000/60000]  loss: 0.51987988  accuracy:  77.612%\n",
            "epoch:  8  batch:  600 [ 60000/60000]  loss: 0.53949851  accuracy:  78.505%\n",
            "epoch:  9  batch:  200 [ 20000/60000]  loss: 0.55045545  accuracy:  81.595%\n",
            "epoch:  9  batch:  400 [ 40000/60000]  loss: 0.48084137  accuracy:  82.293%\n",
            "epoch:  9  batch:  600 [ 60000/60000]  loss: 0.49291888  accuracy:  82.758%\n",
            "\n",
            "Duration: 61 seconds\n"
          ],
          "name": "stdout"
        }
      ]
    },
    {
      "cell_type": "code",
      "metadata": {
        "colab_type": "code",
        "outputId": "88bea3a2-590e-4473-bee6-abc5b1afc837",
        "id": "rVHnb3pkzKwF",
        "colab": {
          "base_uri": "https://localhost:8080/",
          "height": 571
        }
      },
      "source": [
        "#With dropout\n",
        "start_time = time.time()\n",
        "print(\" Repeating the above steps on model with dropout 0.2\")\n",
        "epochs = 10\n",
        "train_losses_d,test_losses_d=[],[]\n",
        "train_correct_d,test_correct_d = [],[]\n",
        "acc_d =[]\n",
        "for i in range(epochs):\n",
        "    train_d = 0\n",
        "    test_d = 0\n",
        "    runningloss_d = 0\n",
        "    \n",
        "    \n",
        "    # Run the training batches on model with dropout\n",
        "    for b, (X_train, y_train) in enumerate(trainloader):\n",
        "        b+=1\n",
        "        \n",
        "        # Apply the model\n",
        "        y_pred_d = model_drop_2layer_s(X_train.view(100, -1))  # Here we flatten X_train\n",
        "        loss_d = criterion(y_pred_d, y_train)\n",
        " \n",
        "        # Tally the number of correct predictions\n",
        "        predicted_d = torch.max(y_pred_d.data, 1)[1]\n",
        "        batch_corr_d = (predicted_d == y_train).sum()\n",
        "        train_d += batch_corr_d\n",
        "        \n",
        "        # Update parameters\n",
        "        optimizer_drop_s.zero_grad()\n",
        "        loss_d.backward()\n",
        "        optimizer_drop_s.step()\n",
        "        \n",
        "        # Print interim results\n",
        "        if b%200 == 0:\n",
        "            print(f'epoch: {i:2}  batch: {b:4} [{100*b:6}/60000]  loss: {loss_d.item():10.8f}  accuracy: {train_d.item()*100/(100*b):7.3f}%')\n",
        "    \n",
        "    # Update train loss & accuracy for the epoch\n",
        "    train_losses_d.append(loss_d)\n",
        "    train_correct_d.append(train_d)\n",
        "        \n",
        "    # Run the testing batches\n",
        "    with torch.no_grad():\n",
        "        for b, (X_test, y_test) in enumerate(testloader):\n",
        "\n",
        "            # Apply the model\n",
        "            y_val = model_drop_2layer_s(X_test.view(len(X_test), -1))  # Here we flatten X_test\n",
        "\n",
        "            # Tally the number of correct predictions\n",
        "            predicted_d = torch.max(y_val.data, 1)[1] \n",
        "            test_d += (predicted_d == y_test).sum()\n",
        "    \n",
        "    # Update test loss & accuracy for the epoch\n",
        "    loss_d = criterion(y_val, y_test)\n",
        "    test_losses_d.append(loss_d)\n",
        "    test_correct_d.append(test_d)\n",
        "        \n",
        "print(f'\\nDuration: {time.time() - start_time:.0f} seconds') # print the time elapsed"
      ],
      "execution_count": 41,
      "outputs": [
        {
          "output_type": "stream",
          "text": [
            " Repeating the above steps on model with dropout 0.2\n",
            "epoch:  0  batch:  200 [ 20000/60000]  loss: 2.30100751  accuracy:  11.005%\n",
            "epoch:  0  batch:  400 [ 40000/60000]  loss: 2.30653930  accuracy:  10.668%\n",
            "epoch:  0  batch:  600 [ 60000/60000]  loss: 2.30346251  accuracy:  10.658%\n",
            "epoch:  1  batch:  200 [ 20000/60000]  loss: 2.30169249  accuracy:  10.315%\n",
            "epoch:  1  batch:  400 [ 40000/60000]  loss: 2.30063844  accuracy:  10.703%\n",
            "epoch:  1  batch:  600 [ 60000/60000]  loss: 2.30340338  accuracy:  10.730%\n",
            "epoch:  2  batch:  200 [ 20000/60000]  loss: 2.31454611  accuracy:  10.865%\n",
            "epoch:  2  batch:  400 [ 40000/60000]  loss: 2.29644203  accuracy:  11.012%\n",
            "epoch:  2  batch:  600 [ 60000/60000]  loss: 2.28789282  accuracy:  11.082%\n",
            "epoch:  3  batch:  200 [ 20000/60000]  loss: 2.31208038  accuracy:  11.585%\n",
            "epoch:  3  batch:  400 [ 40000/60000]  loss: 2.30995131  accuracy:  11.440%\n",
            "epoch:  3  batch:  600 [ 60000/60000]  loss: 2.28479743  accuracy:  12.022%\n",
            "epoch:  4  batch:  200 [ 20000/60000]  loss: 2.26266026  accuracy:  16.065%\n",
            "epoch:  4  batch:  400 [ 40000/60000]  loss: 2.20485711  accuracy:  17.725%\n",
            "epoch:  4  batch:  600 [ 60000/60000]  loss: 1.97734237  accuracy:  20.307%\n",
            "epoch:  5  batch:  200 [ 20000/60000]  loss: 1.89436603  accuracy:  28.105%\n",
            "epoch:  5  batch:  400 [ 40000/60000]  loss: 1.75906444  accuracy:  29.613%\n",
            "epoch:  5  batch:  600 [ 60000/60000]  loss: 1.64072585  accuracy:  31.542%\n",
            "epoch:  6  batch:  200 [ 20000/60000]  loss: 1.63304067  accuracy:  37.955%\n",
            "epoch:  6  batch:  400 [ 40000/60000]  loss: 1.28656542  accuracy:  39.843%\n",
            "epoch:  6  batch:  600 [ 60000/60000]  loss: 1.33690298  accuracy:  41.910%\n",
            "epoch:  7  batch:  200 [ 20000/60000]  loss: 1.22629368  accuracy:  50.370%\n",
            "epoch:  7  batch:  400 [ 40000/60000]  loss: 1.28786409  accuracy:  53.318%\n",
            "epoch:  7  batch:  600 [ 60000/60000]  loss: 1.00171041  accuracy:  56.402%\n",
            "epoch:  8  batch:  200 [ 20000/60000]  loss: 0.89243388  accuracy:  69.390%\n",
            "epoch:  8  batch:  400 [ 40000/60000]  loss: 0.85752213  accuracy:  71.050%\n",
            "epoch:  8  batch:  600 [ 60000/60000]  loss: 0.86778861  accuracy:  72.307%\n",
            "epoch:  9  batch:  200 [ 20000/60000]  loss: 0.70948601  accuracy:  76.630%\n",
            "epoch:  9  batch:  400 [ 40000/60000]  loss: 0.52404302  accuracy:  77.335%\n",
            "epoch:  9  batch:  600 [ 60000/60000]  loss: 0.92490393  accuracy:  77.963%\n",
            "\n",
            "Duration: 63 seconds\n"
          ],
          "name": "stdout"
        }
      ]
    },
    {
      "cell_type": "code",
      "metadata": {
        "colab_type": "code",
        "outputId": "ce52cc34-a309-4a94-cbed-f5d54fdc1b55",
        "id": "wlPOmFiFzKwH",
        "colab": {
          "base_uri": "https://localhost:8080/",
          "height": 281
        }
      },
      "source": [
        "plt.plot(train_losses, label='training loss')\n",
        "plt.plot(test_losses, label='validation loss')\n",
        "plt.title('Loss at the end of each epoch in model without dropout')\n",
        "plt.legend();"
      ],
      "execution_count": 42,
      "outputs": [
        {
          "output_type": "display_data",
          "data": {
            "image/png": "[encoded data removed]",
            "text/plain": [
              "<Figure size 432x288 with 1 Axes>"
            ]
          },
          "metadata": {
            "tags": []
          }
        }
      ]
    },
    {
      "cell_type": "code",
      "metadata": {
        "colab_type": "code",
        "outputId": "7eea4501-38d0-467d-d2e3-55a9cb72eecf",
        "id": "E29yyOp5zKwL",
        "colab": {
          "base_uri": "https://localhost:8080/",
          "height": 281
        }
      },
      "source": [
        "plt.plot(train_losses_d, label='training loss')\n",
        "plt.plot(test_losses_d, label='validation loss')\n",
        "plt.title('Loss at the end of each epoch in model with dropout')\n",
        "plt.legend();"
      ],
      "execution_count": 43,
      "outputs": [
        {
          "output_type": "display_data",
          "data": {
            "image/png": "[encoded data removed]",
            "text/plain": [
              "<Figure size 432x288 with 1 Axes>"
            ]
          },
          "metadata": {
            "tags": []
          }
        }
      ]
    },
    {
      "cell_type": "code",
      "metadata": {
        "colab_type": "code",
        "outputId": "32c4edf9-c639-44cd-abd5-533199776b61",
        "id": "Kf4SbPb8zKwN",
        "colab": {
          "base_uri": "https://localhost:8080/",
          "height": 67
        }
      },
      "source": [
        "# Test Accuracy\n",
        "print(test_correct) # contains the results of all 10 epochs\n",
        "print()\n",
        "print(f'Test accuracy: {test_correct[-1].item()*100/10000:.3f}%') # print the most recent result as a percent"
      ],
      "execution_count": 44,
      "outputs": [
        {
          "output_type": "stream",
          "text": [
            "[tensor(1135), tensor(1063), tensor(1135), tensor(2743), tensor(2918), tensor(4802), tensor(6215), tensor(7617), tensor(8205), tensor(8462)]\n",
            "\n",
            "Test accuracy: 84.620%\n"
          ],
          "name": "stdout"
        }
      ]
    },
    {
      "cell_type": "code",
      "metadata": {
        "colab_type": "code",
        "outputId": "99cf6ec0-d44c-48f2-c60e-7e44153ff694",
        "id": "KXUbBdCizKwQ",
        "colab": {
          "base_uri": "https://localhost:8080/",
          "height": 34
        }
      },
      "source": [
        "# However, we'd like to compare the predicted values to the ground truth (the y_test labels), so we'll run the test set through the trained model all at once.\n",
        "\n",
        "# Extract the data all at once, not in batches\n",
        "test_load_all = torch.utils.data.DataLoader(testset, batch_size=10000, shuffle=False)\n",
        "\n",
        "with torch.no_grad():\n",
        "    correct = 0\n",
        "    for X_test, y_test in test_load_all:\n",
        "        y_val = model_2layer_s(X_test.view(len(X_test), -1))  # pass in a flattened view of X_test\n",
        "        predicted = torch.max(y_val,1)[1]\n",
        "        correct += (predicted == y_test).sum()\n",
        "print(f'Test accuracy: {correct.item()}/{len(testset)} = {correct.item()*100/(len(testset)):7.3f}%')"
      ],
      "execution_count": 45,
      "outputs": [
        {
          "output_type": "stream",
          "text": [
            "Test accuracy: 8462/10000 =  84.620%\n"
          ],
          "name": "stdout"
        }
      ]
    },
    {
      "cell_type": "code",
      "metadata": {
        "colab_type": "code",
        "outputId": "db41bd9f-9af1-4908-e24c-beef2f694bbd",
        "id": "Sz_Y5mt0zKwS",
        "colab": {
          "base_uri": "https://localhost:8080/",
          "height": 67
        }
      },
      "source": [
        "# Test Accuracy\n",
        "print(test_correct_d) # contains the results of all 10 epochs\n",
        "print()\n",
        "print(f'Test accuracy: {test_correct_d[-1].item()*100/10000:.3f}%') # print the most recent result as a percent"
      ],
      "execution_count": 46,
      "outputs": [
        {
          "output_type": "stream",
          "text": [
            "[tensor(1032), tensor(1048), tensor(1028), tensor(1187), tensor(2480), tensor(3715), tensor(5006), tensor(6672), tensor(7715), tensor(8006)]\n",
            "\n",
            "Test accuracy: 80.060%\n"
          ],
          "name": "stdout"
        }
      ]
    },
    {
      "cell_type": "code",
      "metadata": {
        "colab_type": "code",
        "outputId": "27ba9466-ddc0-4bfe-b83b-c04dd35bf80d",
        "id": "YiCA8pKPzKwU",
        "colab": {
          "base_uri": "https://localhost:8080/",
          "height": 34
        }
      },
      "source": [
        "# However, we'd like to compare the predicted values to the ground truth (the y_test labels), so we'll run the test set through the trained model all at once.\n",
        "\n",
        "# Extract the data all at once, not in batches\n",
        "test_load_all = torch.utils.data.DataLoader(testset, batch_size=10000, shuffle=False)\n",
        "\n",
        "with torch.no_grad():\n",
        "    correct = 0\n",
        "    for X_test, y_test in test_load_all:\n",
        "        y_val = model_drop_2layer_s(X_test.view(len(X_test), -1))  # pass in a flattened view of X_test\n",
        "        predicted = torch.max(y_val,1)[1]\n",
        "        correct += (predicted == y_test).sum()\n",
        "print(f'Test accuracy: {correct.item()}/{len(testset)} = {correct.item()*100/(len(testset)):7.3f}%')"
      ],
      "execution_count": 47,
      "outputs": [
        {
          "output_type": "stream",
          "text": [
            "Test accuracy: 8054/10000 =  80.540%\n"
          ],
          "name": "stdout"
        }
      ]
    },
    {
      "cell_type": "code",
      "metadata": {
        "id": "yZzywBCr77Uh",
        "colab_type": "code",
        "colab": {
          "base_uri": "https://localhost:8080/",
          "height": 185
        },
        "outputId": "4c8be87b-b4d8-4d64-8a54-defd91e0344a"
      },
      "source": [
        "torch.manual_seed(101)\n",
        "model_4_layer_s=nn.Sequential(\n",
        "    nn.Linear(784,256),\n",
        "    nn.Sigmoid(),\n",
        "    nn.Linear(256,128),\n",
        "    nn.Sigmoid(),\n",
        "    nn.Linear(128,64),\n",
        "    nn.Sigmoid(),\n",
        "    nn.Linear(64,10),\n",
        "    nn.LogSoftmax(dim=1)\n",
        ")\n",
        "optimizer_a=optim.Adam(model_4_layer_s.parameters(), lr=0.01)\n",
        "\n",
        "print(\"Model without dropout:\",model_4_layer_s)\n"
      ],
      "execution_count": 48,
      "outputs": [
        {
          "output_type": "stream",
          "text": [
            "Model without dropout: Sequential(\n",
            "  (0): Linear(in_features=784, out_features=256, bias=True)\n",
            "  (1): Sigmoid()\n",
            "  (2): Linear(in_features=256, out_features=128, bias=True)\n",
            "  (3): Sigmoid()\n",
            "  (4): Linear(in_features=128, out_features=64, bias=True)\n",
            "  (5): Sigmoid()\n",
            "  (6): Linear(in_features=64, out_features=10, bias=True)\n",
            "  (7): LogSoftmax()\n",
            ")\n"
          ],
          "name": "stdout"
        }
      ]
    },
    {
      "cell_type": "code",
      "metadata": {
        "id": "YFreIuT0azFZ",
        "colab_type": "code",
        "colab": {
          "base_uri": "https://localhost:8080/",
          "height": 554
        },
        "outputId": "fc030017-a0d0-44e7-ac40-1acdff9ef012"
      },
      "source": [
        "start_time = time.time()\n",
        "\n",
        "epochs = 10\n",
        "# Without dropout\n",
        "train_losses,test_losses=[],[]\n",
        "train_correct,test_correct = [],[]\n",
        "acc =[]\n",
        "\n",
        "for i in range(epochs):\n",
        "    train = 0\n",
        "    test = 0\n",
        "    runningloss = 0\n",
        "\n",
        "    # Run the training batches on model without dropout\n",
        "    for b, (X_train, y_train) in enumerate(trainloader):\n",
        "        b+=1\n",
        "        \n",
        "        # Apply the model\n",
        "        y_pred = model_4_layer_s(X_train.view(100, -1))  # Here we flatten X_train\n",
        "        loss = criterion(y_pred, y_train)\n",
        " \n",
        "        # Tally the number of correct predictions\n",
        "        predicted = torch.max(y_pred.data, 1)[1]\n",
        "        batch_corr = (predicted == y_train).sum()\n",
        "        train += batch_corr\n",
        "        \n",
        "        # Update parameters\n",
        "        optimizer_a.zero_grad()\n",
        "        loss.backward()\n",
        "        optimizer_a.step()\n",
        "        \n",
        "        # Print interim results\n",
        "        if b%200 == 0:\n",
        "            print(f'epoch: {i:2}  batch: {b:4} [{100*b:6}/60000]  loss: {loss.item():10.8f}  accuracy: {train.item()*100/(100*b):7.3f}%')\n",
        "    \n",
        "    # Update train loss & accuracy for the epoch\n",
        "    train_losses.append(loss)\n",
        "    train_correct.append(train)\n",
        "        \n",
        "    # Run the testing batches\n",
        "    with torch.no_grad():\n",
        "        for b, (X_test, y_test) in enumerate(testloader):\n",
        "\n",
        "            # Apply the model\n",
        "            y_val = model_4_layer_s(X_test.view(len(X_test), -1))  # Here we flatten X_test\n",
        "\n",
        "            # Tally the number of correct predictions\n",
        "            predicted = torch.max(y_val.data, 1)[1] \n",
        "            test += (predicted == y_test).sum()\n",
        "    \n",
        "    # Update test loss & accuracy for the epoch\n",
        "    loss = criterion(y_val, y_test)\n",
        "    test_losses.append(loss)\n",
        "    test_correct.append(test)\n",
        "\n",
        "    \n",
        "print(f'\\nDuration: {time.time() - start_time:.0f} seconds') # print the time elapsed"
      ],
      "execution_count": 49,
      "outputs": [
        {
          "output_type": "stream",
          "text": [
            "epoch:  0  batch:  200 [ 20000/60000]  loss: 0.21022236  accuracy:  77.600%\n",
            "epoch:  0  batch:  400 [ 40000/60000]  loss: 0.21039726  accuracy:  85.820%\n",
            "epoch:  0  batch:  600 [ 60000/60000]  loss: 0.13492961  accuracy:  88.970%\n",
            "epoch:  1  batch:  200 [ 20000/60000]  loss: 0.17487445  accuracy:  96.480%\n",
            "epoch:  1  batch:  400 [ 40000/60000]  loss: 0.12709317  accuracy:  96.532%\n",
            "epoch:  1  batch:  600 [ 60000/60000]  loss: 0.04586768  accuracy:  96.580%\n",
            "epoch:  2  batch:  200 [ 20000/60000]  loss: 0.07159826  accuracy:  97.250%\n",
            "epoch:  2  batch:  400 [ 40000/60000]  loss: 0.10586684  accuracy:  97.385%\n",
            "epoch:  2  batch:  600 [ 60000/60000]  loss: 0.12879032  accuracy:  97.360%\n",
            "epoch:  3  batch:  200 [ 20000/60000]  loss: 0.08654335  accuracy:  97.820%\n",
            "epoch:  3  batch:  400 [ 40000/60000]  loss: 0.10458511  accuracy:  97.847%\n",
            "epoch:  3  batch:  600 [ 60000/60000]  loss: 0.01931866  accuracy:  97.833%\n",
            "epoch:  4  batch:  200 [ 20000/60000]  loss: 0.01919621  accuracy:  98.230%\n",
            "epoch:  4  batch:  400 [ 40000/60000]  loss: 0.06010443  accuracy:  98.190%\n",
            "epoch:  4  batch:  600 [ 60000/60000]  loss: 0.05805972  accuracy:  98.142%\n",
            "epoch:  5  batch:  200 [ 20000/60000]  loss: 0.05113196  accuracy:  98.395%\n",
            "epoch:  5  batch:  400 [ 40000/60000]  loss: 0.03017557  accuracy:  98.250%\n",
            "epoch:  5  batch:  600 [ 60000/60000]  loss: 0.07275805  accuracy:  98.240%\n",
            "epoch:  6  batch:  200 [ 20000/60000]  loss: 0.09917484  accuracy:  98.560%\n",
            "epoch:  6  batch:  400 [ 40000/60000]  loss: 0.03571951  accuracy:  98.468%\n",
            "epoch:  6  batch:  600 [ 60000/60000]  loss: 0.03523404  accuracy:  98.447%\n",
            "epoch:  7  batch:  200 [ 20000/60000]  loss: 0.07958668  accuracy:  98.745%\n",
            "epoch:  7  batch:  400 [ 40000/60000]  loss: 0.01936945  accuracy:  98.585%\n",
            "epoch:  7  batch:  600 [ 60000/60000]  loss: 0.08910526  accuracy:  98.477%\n",
            "epoch:  8  batch:  200 [ 20000/60000]  loss: 0.06506771  accuracy:  98.490%\n",
            "epoch:  8  batch:  400 [ 40000/60000]  loss: 0.08796789  accuracy:  98.520%\n",
            "epoch:  8  batch:  600 [ 60000/60000]  loss: 0.01972398  accuracy:  98.540%\n",
            "epoch:  9  batch:  200 [ 20000/60000]  loss: 0.03048845  accuracy:  98.910%\n",
            "epoch:  9  batch:  400 [ 40000/60000]  loss: 0.05050983  accuracy:  98.778%\n",
            "epoch:  9  batch:  600 [ 60000/60000]  loss: 0.02579251  accuracy:  98.693%\n",
            "\n",
            "Duration: 69 seconds\n"
          ],
          "name": "stdout"
        }
      ]
    },
    {
      "cell_type": "code",
      "metadata": {
        "id": "VN9xC5RHbDrH",
        "colab_type": "code",
        "colab": {}
      },
      "source": [
        "from prettytable import PrettyTable\n",
        "\n",
        "x = PrettyTable()\n",
        "x.field_names = [\"Model_name\",\"Number_of_Parameters\",\"Activation_func\",\"Optimizer\",\"Dropout=0.2\",\"Accuracy\"]\n",
        "x.add_row([\"model_1layer\",\"218058\",\"ReLU\",\"optim.SGD(model_1layer.parameters(), lr=0.01)\",\"No\",\"92.45\"])\n",
        "x.add_row([\"model_drop_1layer\",\"218058\",\"ReLU\",\"optim.SGD(model_drop_1layer.parameters(), lr=0.01)\",\"Yes\",\"90.83\"])\n",
        "x.add_row([\"model_2layer\",\"242762\",\"ReLU\",\"optim.SGD(model_2layer.parameters(), lr=0.01)\",\"No\",\"92.37\"])\n",
        "x.add_row([\"model_drop_2layer\",\"242762\",\"ReLU\",\"optim.SGD(model_drop_2layer.parameters(), lr=0.01)\",\"Yes\",\"89.75\"])\n",
        "x.add_row([\"model_1layer_s\",\"218058\",\"Sigmoid\",\"optim.SGD(model_1layer_s.parameters(), lr=0.01)\",\"No\",\"43.15\"])\n",
        "x.add_row([\"model_drop_1layer_s\",\"218058\",\"Sigmoid\",\"optim.SGD(model_drop_1layer_s.parameters(), lr=0.01)\",\"Yes\",\"45.29\"])\n",
        "x.add_row([\"model_2layer_s\",\"242762\",\"Sigmoid\",\"optim.SGD(model_2layer_s.parameters(), lr=0.01,momentum=0.9)\",\"No\",\"84.62\"])\n",
        "x.add_row([\"model_drop_2layer_s\",\"242762\",\"Sigmoid\",\"optim.SGD(model_drop_2layer_s.parameters(), lr=0.01,momentum=0.9)\",\"Yes\",\"80.54\"])\n",
        "x.add_row([\"model_4_layer_s\",\"242762\",\"Sigmoid\",\"optim.Adam(model_4_layer_s.parameters(), lr=0.01)\",\"No\",\"98.64\"])\n"
      ],
      "execution_count": 0,
      "outputs": []
    },
    {
      "cell_type": "code",
      "metadata": {
        "id": "Dn2jrqPK5VXJ",
        "colab_type": "code",
        "colab": {
          "base_uri": "https://localhost:8080/",
          "height": 235
        },
        "outputId": "ba3a17eb-759d-41c7-899f-60c069de0b42"
      },
      "source": [
        "print(x)"
      ],
      "execution_count": 56,
      "outputs": [
        {
          "output_type": "stream",
          "text": [
            "+---------------------+----------------------+-----------------+-------------------------------------------------------------------+-------------+----------+\n",
            "|      Model_name     | Number_of_Parameters | Activation_func |                             Optimizer                             | Dropout=0.2 | Accuracy |\n",
            "+---------------------+----------------------+-----------------+-------------------------------------------------------------------+-------------+----------+\n",
            "|     model_1layer    |        218058        |       ReLU      |           optim.SGD(model_1layer.parameters(), lr=0.01)           |      No     |  92.45   |\n",
            "|  model_drop_1layer  |        218058        |       ReLU      |         optim.SGD(model_drop_1layer.parameters(), lr=0.01)        |     Yes     |  90.83   |\n",
            "|     model_2layer    |        242762        |       ReLU      |           optim.SGD(model_2layer.parameters(), lr=0.01)           |      No     |  92.37   |\n",
            "|  model_drop_2layer  |        242762        |       ReLU      |         optim.SGD(model_drop_2layer.parameters(), lr=0.01)        |     Yes     |  89.75   |\n",
            "|    model_1layer_s   |        218058        |     Sigmoid     |          optim.SGD(model_1layer_s.parameters(), lr=0.01)          |      No     |  43.15   |\n",
            "| model_drop_1layer_s |        218058        |     Sigmoid     |        optim.SGD(model_drop_1layer_s.parameters(), lr=0.01)       |     Yes     |  45.29   |\n",
            "|    model_2layer_s   |        242762        |     Sigmoid     |    optim.SGD(model_2layer_s.parameters(), lr=0.01,momentum=0.9)   |      No     |  84.62   |\n",
            "| model_drop_2layer_s |        242762        |     Sigmoid     | optim.SGD(model_drop_2layer_s.parameters(), lr=0.01,momentum=0.9) |     Yes     |  80.54   |\n",
            "|   model_4_layer_s   |        242762        |     Sigmoid     |         optim.Adam(model_4_layer_s.parameters(), lr=0.01)         |      No     |  98.64   |\n",
            "+---------------------+----------------------+-----------------+-------------------------------------------------------------------+-------------+----------+\n"
          ],
          "name": "stdout"
        }
      ]
    },
    {
      "cell_type": "code",
      "metadata": {
        "id": "W5QoThfN__yj",
        "colab_type": "code",
        "colab": {}
      },
      "source": [
        ""
      ],
      "execution_count": 0,
      "outputs": []
    }
  ]
}